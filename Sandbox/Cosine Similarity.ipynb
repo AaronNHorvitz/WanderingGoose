{
 "cells": [
  {
   "cell_type": "code",
   "execution_count": 13,
   "id": "823bab6a",
   "metadata": {
    "ExecuteTime": {
     "end_time": "2022-05-04T00:32:30.389895Z",
     "start_time": "2022-05-04T00:32:30.200865Z"
    }
   },
   "outputs": [],
   "source": [
    "import pandas as pd\n",
    "import numpy as np\n",
    "\n",
    "from sklearn.feature_extraction.text import CountVectorizer\n",
    "from sklearn.metrics.pairwise import cosine_similarity\n"
   ]
  },
  {
   "cell_type": "code",
   "execution_count": 4,
   "id": "edf9b052",
   "metadata": {
    "ExecuteTime": {
     "end_time": "2022-05-04T00:26:51.405447Z",
     "start_time": "2022-05-04T00:26:51.395520Z"
    }
   },
   "outputs": [],
   "source": []
  },
  {
   "cell_type": "code",
   "execution_count": 34,
   "id": "7a26468d",
   "metadata": {
    "ExecuteTime": {
     "end_time": "2022-05-04T00:43:54.795424Z",
     "start_time": "2022-05-04T00:43:54.781595Z"
    }
   },
   "outputs": [],
   "source": [
    "def calculate_cosine_similarity(text1:str, text2:str)->float:\n",
    "    \n",
    "    \"\"\"\n",
    "    Calculates cosine similarity between two text strings. \n",
    "    \n",
    "    Params\n",
    "    ------\n",
    "    text1 (str): First string to compare\n",
    "    text2 (str): Second string to compare\n",
    "    \n",
    "    Returns\n",
    "    -------\n",
    "    Returns the cosine similarity score between the two text strings. \n",
    "    \"\"\"\n",
    "    \n",
    "    count_vectorizer = CountVectorizer()\n",
    "    vector_matrix = count_vectorizer.fit_transform([text1, text2])\n",
    "    tokens = count_vectorizer.get_feature_names()\n",
    "    vector_matrix = pd.DataFrame(\n",
    "        data=vector_matrix.toarray(), \n",
    "        index=['text1','text2'], \n",
    "        columns=count_vectorizer.get_feature_names())\n",
    "\n",
    "    return cosine_similarity(vector_matrix)[0][1]\n"
   ]
  },
  {
   "cell_type": "code",
   "execution_count": 50,
   "id": "a0943e43",
   "metadata": {
    "ExecuteTime": {
     "end_time": "2022-05-04T00:54:57.382979Z",
     "start_time": "2022-05-04T00:54:57.363788Z"
    }
   },
   "outputs": [
    {
     "data": {
      "text/plain": [
       "0.7071067811865476"
      ]
     },
     "execution_count": 50,
     "metadata": {},
     "output_type": "execute_result"
    }
   ],
   "source": [
    "# Test 1\n",
    "text1 = \"Data is the oil of the digital economy\"\n",
    "text2 = \"Data is the new oil\"\n",
    "\n",
    "calculate_cosine_similarity(text1, text2)"
   ]
  },
  {
   "cell_type": "code",
   "execution_count": null,
   "id": "24d5c94c",
   "metadata": {},
   "outputs": [],
   "source": []
  },
  {
   "cell_type": "code",
   "execution_count": 51,
   "id": "d8dbac64",
   "metadata": {
    "ExecuteTime": {
     "end_time": "2022-05-04T00:54:58.165687Z",
     "start_time": "2022-05-04T00:54:58.153533Z"
    }
   },
   "outputs": [
    {
     "data": {
      "text/plain": [
       "0.7679817174694635"
      ]
     },
     "execution_count": 51,
     "metadata": {},
     "output_type": "execute_result"
    }
   ],
   "source": [
    "# Test 2\n",
    "text1 = \"Come up to me on the mountain and stay here, and I will give you the tablets of stone with the law and commandments I have written for their instruction.\"\n",
    "text2 = \"Come up to me on the mountain. Stay there, and I will give you the tablets of stone on which I have inscribed the instructions and commands so you can teach the people.\"\n",
    "\n",
    "calculate_cosine_similarity(text1, text2)"
   ]
  },
  {
   "cell_type": "code",
   "execution_count": 53,
   "id": "bed9c9e8",
   "metadata": {
    "ExecuteTime": {
     "end_time": "2022-05-04T00:58:34.424806Z",
     "start_time": "2022-05-04T00:58:34.411979Z"
    }
   },
   "outputs": [
    {
     "data": {
      "text/plain": [
       "0.4360407996361905"
      ]
     },
     "execution_count": 53,
     "metadata": {},
     "output_type": "execute_result"
    }
   ],
   "source": [
    "# Test 3\n",
    "text1 = \"What is hateful to you, do not do to your fellow: this is the whole Torah; the rest is the explanation; go and learn.\"\n",
    "text2 = \"You shall love your neighbor as yourself, and whatever you would not want to happen to you, do not do to another.\"\n",
    "\n",
    "calculate_cosine_similarity(text1, text2)"
   ]
  },
  {
   "cell_type": "code",
   "execution_count": 54,
   "id": "d8ba2d88",
   "metadata": {
    "ExecuteTime": {
     "end_time": "2022-05-04T00:59:12.131191Z",
     "start_time": "2022-05-04T00:59:12.121151Z"
    }
   },
   "outputs": [
    {
     "data": {
      "text/plain": [
       "0.0"
      ]
     },
     "execution_count": 54,
     "metadata": {},
     "output_type": "execute_result"
    }
   ],
   "source": [
    "text1 = \"See Pug run!\"\n",
    "text2 = \"The cow jumped over the moon.\"\n",
    "\n",
    "calculate_cosine_similarity(text1, text2)"
   ]
  },
  {
   "cell_type": "code",
   "execution_count": null,
   "id": "205c5439",
   "metadata": {},
   "outputs": [],
   "source": []
  }
 ],
 "metadata": {
  "kernelspec": {
   "display_name": "Python 3",
   "language": "python",
   "name": "python3"
  },
  "language_info": {
   "codemirror_mode": {
    "name": "ipython",
    "version": 3
   },
   "file_extension": ".py",
   "mimetype": "text/x-python",
   "name": "python",
   "nbconvert_exporter": "python",
   "pygments_lexer": "ipython3",
   "version": "3.8.8"
  },
  "toc": {
   "base_numbering": 1,
   "nav_menu": {},
   "number_sections": true,
   "sideBar": true,
   "skip_h1_title": false,
   "title_cell": "Table of Contents",
   "title_sidebar": "Contents",
   "toc_cell": false,
   "toc_position": {},
   "toc_section_display": true,
   "toc_window_display": false
  },
  "varInspector": {
   "cols": {
    "lenName": 16,
    "lenType": 16,
    "lenVar": 40
   },
   "kernels_config": {
    "python": {
     "delete_cmd_postfix": "",
     "delete_cmd_prefix": "del ",
     "library": "var_list.py",
     "varRefreshCmd": "print(var_dic_list())"
    },
    "r": {
     "delete_cmd_postfix": ") ",
     "delete_cmd_prefix": "rm(",
     "library": "var_list.r",
     "varRefreshCmd": "cat(var_dic_list()) "
    }
   },
   "types_to_exclude": [
    "module",
    "function",
    "builtin_function_or_method",
    "instance",
    "_Feature"
   ],
   "window_display": false
  }
 },
 "nbformat": 4,
 "nbformat_minor": 5
}
