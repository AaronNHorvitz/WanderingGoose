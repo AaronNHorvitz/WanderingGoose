{
 "cells": [
  {
   "cell_type": "code",
   "execution_count": null,
   "id": "f89df0f6",
   "metadata": {},
   "outputs": [],
   "source": [
    "import sys\n",
    "sys.path.append('..') # monkey patch paths to be able to see WanderingGoose package"
   ]
  },
  {
   "cell_type": "code",
   "execution_count": null,
   "id": "901bab69",
   "metadata": {
    "ExecuteTime": {
     "end_time": "2021-11-04T07:13:18.680295Z",
     "start_time": "2021-11-04T07:13:17.473874Z"
    }
   },
   "outputs": [],
   "source": [
    "import numpy as np\n",
    "\n",
    "from WanderingGoose.viz.standard.basic_bivariate_plot import basic_bivariate_plot\n",
    "from WanderingGoose.viz.standard.linear_fit_plot import linear_fit_plot\n",
    "from WanderingGoose.viz.standard.poly_fit_plot import poly_fit_plot\n",
    "from WanderingGoose.viz.diagnostic.residuals_plot import residuals_plot"
   ]
  },
  {
   "cell_type": "markdown",
   "id": "0b698ff5",
   "metadata": {},
   "source": [
    "# Create Data"
   ]
  },
  {
   "cell_type": "code",
   "execution_count": null,
   "id": "1d0cb326",
   "metadata": {
    "ExecuteTime": {
     "end_time": "2021-11-04T07:13:18.695576Z",
     "start_time": "2021-11-04T07:13:18.681000Z"
    }
   },
   "outputs": [],
   "source": [
    "x = np.arange(0,75, 1)\n",
    "y = (1.25*np.exp(0.05*x)+1)\n",
    "y = y+np.random.normal(0, 4, y.shape)"
   ]
  },
  {
   "cell_type": "markdown",
   "id": "fa6fb84f",
   "metadata": {},
   "source": [
    "# Poly Fit Plot"
   ]
  },
  {
   "cell_type": "code",
   "execution_count": null,
   "id": "d98ee60f",
   "metadata": {
    "ExecuteTime": {
     "end_time": "2021-11-04T07:14:03.565783Z",
     "start_time": "2021-11-04T07:14:03.373897Z"
    }
   },
   "outputs": [],
   "source": [
    "ax = poly_fit_plot(x, y, deg = 3)"
   ]
  },
  {
   "cell_type": "markdown",
   "id": "f079a741",
   "metadata": {},
   "source": [
    "# Linear Fit Plot"
   ]
  },
  {
   "cell_type": "code",
   "execution_count": null,
   "id": "dfbb57a9",
   "metadata": {
    "ExecuteTime": {
     "end_time": "2021-11-04T07:13:19.080423Z",
     "start_time": "2021-11-04T07:13:18.852039Z"
    }
   },
   "outputs": [],
   "source": [
    "ax = linear_fit_plot(x, y, figsize=(7,7))"
   ]
  },
  {
   "cell_type": "markdown",
   "id": "f9bd372e",
   "metadata": {},
   "source": [
    "# Basic Bivariate Plot"
   ]
  },
  {
   "cell_type": "code",
   "execution_count": null,
   "id": "36176c33",
   "metadata": {
    "ExecuteTime": {
     "end_time": "2021-11-04T07:14:32.662097Z",
     "start_time": "2021-11-04T07:14:32.512848Z"
    }
   },
   "outputs": [],
   "source": [
    "ax = basic_bivariate_plot(x, y, figsize=(7,7))"
   ]
  },
  {
   "cell_type": "markdown",
   "id": "020a3f9e",
   "metadata": {},
   "source": [
    "# Residuals Plot"
   ]
  },
  {
   "cell_type": "code",
   "execution_count": null,
   "id": "0e8d4077",
   "metadata": {
    "ExecuteTime": {
     "end_time": "2021-11-04T07:15:44.158785Z",
     "start_time": "2021-11-04T07:15:44.153401Z"
    }
   },
   "outputs": [],
   "source": [
    "# Calculate Y-hat\n",
    "coeffs = np.polyfit(x, y, deg=1) \n",
    "y_hat = np.polyval(coeffs, x)"
   ]
  },
  {
   "cell_type": "code",
   "execution_count": null,
   "id": "6d7dd78c",
   "metadata": {
    "ExecuteTime": {
     "end_time": "2021-11-04T07:16:43.500279Z",
     "start_time": "2021-11-04T07:16:43.328595Z"
    }
   },
   "outputs": [],
   "source": [
    "ax = residuals_plot(y, y_hat)"
   ]
  },
  {
   "cell_type": "code",
   "execution_count": null,
   "id": "2f6ff8a8",
   "metadata": {},
   "outputs": [],
   "source": []
  }
 ],
 "metadata": {
  "interpreter": {
   "hash": "215c3a5e69894b3a6f44054f71060e7cbc2e9a0edb25488af3e533c282907cdb"
  },
  "kernelspec": {
   "display_name": "Python 3",
   "language": "python",
   "name": "python3"
  },
  "language_info": {
   "codemirror_mode": {
    "name": "ipython",
    "version": 3
   },
   "file_extension": ".py",
   "mimetype": "text/x-python",
   "name": "python",
   "nbconvert_exporter": "python",
   "pygments_lexer": "ipython3",
   "version": "3.8.8"
  },
  "toc": {
   "base_numbering": 1,
   "nav_menu": {},
   "number_sections": true,
   "sideBar": true,
   "skip_h1_title": false,
   "title_cell": "Table of Contents",
   "title_sidebar": "Contents",
   "toc_cell": false,
   "toc_position": {},
   "toc_section_display": true,
   "toc_window_display": false
  },
  "varInspector": {
   "cols": {
    "lenName": 16,
    "lenType": 16,
    "lenVar": 40
   },
   "kernels_config": {
    "python": {
     "delete_cmd_postfix": "",
     "delete_cmd_prefix": "del ",
     "library": "var_list.py",
     "varRefreshCmd": "print(var_dic_list())"
    },
    "r": {
     "delete_cmd_postfix": ") ",
     "delete_cmd_prefix": "rm(",
     "library": "var_list.r",
     "varRefreshCmd": "cat(var_dic_list()) "
    }
   },
   "types_to_exclude": [
    "module",
    "function",
    "builtin_function_or_method",
    "instance",
    "_Feature"
   ],
   "window_display": false
  }
 },
 "nbformat": 4,
 "nbformat_minor": 5
}
