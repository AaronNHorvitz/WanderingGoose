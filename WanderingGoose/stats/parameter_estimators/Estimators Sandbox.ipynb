{
 "cells": [
  {
   "cell_type": "code",
   "execution_count": 3,
   "id": "41a55a07",
   "metadata": {
    "ExecuteTime": {
     "end_time": "2022-05-13T12:32:02.562926Z",
     "start_time": "2022-05-13T12:32:00.751151Z"
    }
   },
   "outputs": [],
   "source": [
    "import numpy as np\n",
    "import pandas as pd\n",
    "\n",
    "import matplotlib.pyplot as plt\n",
    "import matplotlib as mpl\n",
    "\n",
    "from scipy.stats import multivariate_normal"
   ]
  },
  {
   "cell_type": "code",
   "execution_count": null,
   "id": "c73ab964",
   "metadata": {},
   "outputs": [],
   "source": []
  },
  {
   "cell_type": "code",
   "execution_count": null,
   "id": "60abe803",
   "metadata": {},
   "outputs": [],
   "source": []
  },
  {
   "cell_type": "code",
   "execution_count": 4,
   "id": "82391de8",
   "metadata": {
    "ExecuteTime": {
     "end_time": "2022-05-13T12:39:00.967481Z",
     "start_time": "2022-05-13T12:39:00.957502Z"
    }
   },
   "outputs": [],
   "source": [
    "# multivariate normal documentation: https://docs.scipy.org/doc/scipy/reference/generated/scipy.stats.multivariate_normal.html\n",
    "\n",
    "\n",
    "def E_step(data,pi,mu,sigma):\n",
    "    \"\"\"\n",
    "    \n",
    "    Source: https://towardsdatascience.com/latent-variables-expectation-maximization-algorithm-fb15c4e0f32c\n",
    "    \"\"\"\n",
    "    N = data.shape[0] # number of data-points\n",
    "    K = pi.shape[0] # number of clusters\n",
    "    d = mu.  shape[1] # dimension/ attributes of each data point\n",
    "    gamma = np.zeros((N, K)) # posterior\n",
    "    \n",
    "    for nk in range(K):\n",
    "        gamma[:, nk] = pi[nk]*multivariate_normal.pdf(data, mean=mu[nk], cov=sigma[nk])\n",
    "        \n",
    "    return gamma/np.sum(gamma, axis=1, keepdims=True) # calculate posterior for each cluster\n",
    "    "
   ]
  },
  {
   "cell_type": "code",
   "execution_count": null,
   "id": "8a754991",
   "metadata": {},
   "outputs": [],
   "source": []
  },
  {
   "cell_type": "code",
   "execution_count": 5,
   "id": "299a4231",
   "metadata": {
    "ExecuteTime": {
     "end_time": "2022-05-13T15:59:12.314331Z",
     "start_time": "2022-05-13T15:59:12.271445Z"
    }
   },
   "outputs": [],
   "source": [
    "def M_step(data, gamma):\n",
    "    \n",
    "    \"\"\"\n",
    "    \n",
    "    Source: https://towardsdatascience.com/latent-variables-expectation-maximization-algorithm-fb15c4e0f32c\n",
    "    \"\"\"\n",
    "    \n",
    "    N, D = data.shape\n",
    "    K = gamma.shape[1] # use the posterior shape calculated in E-step to determine the number of clusters\n",
    "    pi = np.zeros(K)\n",
    "    mu = np.zeros({K,D})\n",
    "    sigma = np.zeros({K,D,D})\n",
    "    \n",
    "    for ik in range(K): \n",
    "        n_k = gamma[:, ik].sum() # use the definition of n_k\n",
    "        pi[ik] = n_k/N # definition of the weights\n",
    "        elements = np.reshape(gamma[:, ik], (gamma.shpae[0], 1))\n",
    "        \n",
    "        # get each columns and reshape it (K, 1) form so hat later broadcasting is possible.\n",
    "        mu[ik,:] = (np.multiply( elements, data)).sum(axis=0)/ n_k\n",
    "        sigma_sum = 0\n",
    "        for i in range(N):\n",
    "            var = data[i] - mu[ik]\n",
    "            sigma_sum = sigma_sum + gamma[i, ik]*np.outer(var, var) # outer product creatures the covariance matrix\n",
    "        simga[ik, :] = sigma_sum/n_k\n",
    "    return pi, mu, sigma\n",
    "\n",
    "        \n",
    "    "
   ]
  },
  {
   "cell_type": "code",
   "execution_count": null,
   "id": "49b76caa",
   "metadata": {},
   "outputs": [],
   "source": []
  },
  {
   "cell_type": "code",
   "execution_count": 6,
   "id": "8c379355",
   "metadata": {
    "ExecuteTime": {
     "end_time": "2022-05-13T16:19:18.348306Z",
     "start_time": "2022-05-13T16:19:18.339183Z"
    }
   },
   "outputs": [],
   "source": [
    "def elbo(data, gamma, pi, mu, sigma):\n",
    "    \n",
    "    N = data.shape[0] # number of data points\n",
    "    K = gamma.shape[1] # number of clusters\n",
    "    d = data.shape[1] # dimension of each object\n",
    "    \n",
    "    loss = 0\n",
    "    for i in range(N):\n",
    "        x = data[i]\n",
    "        for k in range(K):\n",
    "            post_dist = gamma[i, k] # p(z_i=k|x) = gamma_ik\n",
    "            log_lik = np.log(multivariate_normal.pdf(x, mean=mu[k, :], cov=sigma[k, :, :]) +le-20) # log p(x|z)\n",
    "            log_q = np.log(gamma[i,k] + le-20) # log q(z) = log p(z_i=k|x)\n",
    "            log_pz = np.log(pi[k] + le-20) # log p(z_k =1) =\\pi_k\n",
    "            loss = (loss + np.multiply(pos_dis, log_pz) + np.multiply(pos_dist, log_lik) +\n",
    "                   np.multiply(post_dist, -log_q))\n",
    "        \n",
    "    print(\"check loss: \"), loss\n",
    "\n",
    "    return loss\n"
   ]
  },
  {
   "cell_type": "code",
   "execution_count": null,
   "id": "33bd657c",
   "metadata": {},
   "outputs": [],
   "source": []
  },
  {
   "cell_type": "code",
   "execution_count": 27,
   "id": "eef01533",
   "metadata": {
    "ExecuteTime": {
     "end_time": "2022-05-13T16:27:16.416656Z",
     "start_time": "2022-05-13T16:27:16.400439Z"
    }
   },
   "outputs": [],
   "source": [
    "def train_loop(data, K, tolerance=1e-3, max_iter=50, restart=10):\n",
    "    \n",
    "    if len(data.shape)==1:\n",
    "        N = data.shape\n",
    "        d = 0\n",
    "    else:\n",
    "        N, d = data.shape\n",
    "    \n",
    "    \n",
    "    elbo_best = -np.inf # loss set to the lowest value \n",
    "    pi_best = None\n",
    "    mu_best = None\n",
    "    sigma_best = None\n",
    "    gamma_f = None\n",
    "    for _ in range(restart):\n",
    "        pi = np.ones(K) / K # if 3 clusters then an array of [.33, .33, .33] \n",
    "                                # the sum of pi's should be one\n",
    "                            # that's why normalized  \n",
    "                \n",
    "        mu = np.random.rand(K, d) # no condition on \n",
    "        sigma = np.tile(np.eye(d), (K, 1, 1)) # to initialize sigma we first start with ones only at the diagonals\n",
    "                                              # the sigmas (Covariance matrices) are postive semi-definite and symmetric  \n",
    "        last_iter_loss = None\n",
    "        all_losses = []\n",
    "        \n",
    "        try:\n",
    "            for i in range(max_iter):\n",
    "                gamma = E_step(data, pi, mu, sigma)\n",
    "                pi, mu, sigma = M_step(data, gamma)\n",
    "                loss = elbo(data, gamma, pi, mu, sigma)\n",
    "                \n",
    "                if loss > elbo_best:\n",
    "                    elbo_best = loss\n",
    "                    pi_best = pi \n",
    "                    mu_best = mu\n",
    "                    sigma_best = sigma\n",
    "                    gamma_f = gamma\n",
    "                \n",
    "                if last_iter_loss and abs((loss-last_iter_loss)/last_iter_loss) < tolerance: # insignificant improvement\n",
    "                    break \n",
    "                    \n",
    "            last_iter_loss = loss\n",
    "            all_losses.append(loss)\n",
    "            \n",
    "        except np.linalg.LinAlgError: # avoid the delta function situation \n",
    "            pass \n",
    "        \n",
    "    return elbo_best, pi_best, mu_best, sigma_best, all_losses, gamma_f    "
   ]
  },
  {
   "cell_type": "code",
   "execution_count": null,
   "id": "0f6c8f66",
   "metadata": {},
   "outputs": [],
   "source": []
  },
  {
   "cell_type": "code",
   "execution_count": 28,
   "id": "8b73900b",
   "metadata": {
    "ExecuteTime": {
     "end_time": "2022-05-13T16:27:17.600997Z",
     "start_time": "2022-05-13T16:27:17.594016Z"
    }
   },
   "outputs": [],
   "source": [
    "# generate a sample\n",
    "X1 = np.random.normal(loc=20, scale=5, size=3000)\n",
    "X2 = np.random.normal(loc=40, scale=5, size=7000)\n",
    "X = np.hstack((X1, X2))"
   ]
  },
  {
   "cell_type": "code",
   "execution_count": 29,
   "id": "0fe6f9d4",
   "metadata": {
    "ExecuteTime": {
     "end_time": "2022-05-13T16:27:19.442047Z",
     "start_time": "2022-05-13T16:27:19.360326Z"
    }
   },
   "outputs": [
    {
     "ename": "error",
     "evalue": "(il>=1&&il<=n) failed for 6th keyword il: dsyevr:il=1",
     "output_type": "error",
     "traceback": [
      "\u001b[1;31m---------------------------------------------------------------------------\u001b[0m",
      "\u001b[1;31merror\u001b[0m                                     Traceback (most recent call last)",
      "\u001b[1;32m<ipython-input-29-4d205c047ee7>\u001b[0m in \u001b[0;36m<module>\u001b[1;34m\u001b[0m\n\u001b[1;32m----> 1\u001b[1;33m \u001b[0mtrain_loop\u001b[0m\u001b[1;33m(\u001b[0m\u001b[0mdata\u001b[0m\u001b[1;33m=\u001b[0m\u001b[0mX\u001b[0m\u001b[1;33m,\u001b[0m \u001b[0mK\u001b[0m\u001b[1;33m=\u001b[0m\u001b[1;36m3\u001b[0m\u001b[1;33m)\u001b[0m\u001b[1;33m\u001b[0m\u001b[1;33m\u001b[0m\u001b[0m\n\u001b[0m",
      "\u001b[1;32m<ipython-input-27-d7dcf3f5e7d9>\u001b[0m in \u001b[0;36mtrain_loop\u001b[1;34m(data, K, tolerance, max_iter, restart)\u001b[0m\n\u001b[0;32m     26\u001b[0m         \u001b[1;32mtry\u001b[0m\u001b[1;33m:\u001b[0m\u001b[1;33m\u001b[0m\u001b[1;33m\u001b[0m\u001b[0m\n\u001b[0;32m     27\u001b[0m             \u001b[1;32mfor\u001b[0m \u001b[0mi\u001b[0m \u001b[1;32min\u001b[0m \u001b[0mrange\u001b[0m\u001b[1;33m(\u001b[0m\u001b[0mmax_iter\u001b[0m\u001b[1;33m)\u001b[0m\u001b[1;33m:\u001b[0m\u001b[1;33m\u001b[0m\u001b[1;33m\u001b[0m\u001b[0m\n\u001b[1;32m---> 28\u001b[1;33m                 \u001b[0mgamma\u001b[0m \u001b[1;33m=\u001b[0m \u001b[0mE_step\u001b[0m\u001b[1;33m(\u001b[0m\u001b[0mdata\u001b[0m\u001b[1;33m,\u001b[0m \u001b[0mpi\u001b[0m\u001b[1;33m,\u001b[0m \u001b[0mmu\u001b[0m\u001b[1;33m,\u001b[0m \u001b[0msigma\u001b[0m\u001b[1;33m)\u001b[0m\u001b[1;33m\u001b[0m\u001b[1;33m\u001b[0m\u001b[0m\n\u001b[0m\u001b[0;32m     29\u001b[0m                 \u001b[0mpi\u001b[0m\u001b[1;33m,\u001b[0m \u001b[0mmu\u001b[0m\u001b[1;33m,\u001b[0m \u001b[0msigma\u001b[0m \u001b[1;33m=\u001b[0m \u001b[0mM_step\u001b[0m\u001b[1;33m(\u001b[0m\u001b[0mdata\u001b[0m\u001b[1;33m,\u001b[0m \u001b[0mgamma\u001b[0m\u001b[1;33m)\u001b[0m\u001b[1;33m\u001b[0m\u001b[1;33m\u001b[0m\u001b[0m\n\u001b[0;32m     30\u001b[0m                 \u001b[0mloss\u001b[0m \u001b[1;33m=\u001b[0m \u001b[0melbo\u001b[0m\u001b[1;33m(\u001b[0m\u001b[0mdata\u001b[0m\u001b[1;33m,\u001b[0m \u001b[0mgamma\u001b[0m\u001b[1;33m,\u001b[0m \u001b[0mpi\u001b[0m\u001b[1;33m,\u001b[0m \u001b[0mmu\u001b[0m\u001b[1;33m,\u001b[0m \u001b[0msigma\u001b[0m\u001b[1;33m)\u001b[0m\u001b[1;33m\u001b[0m\u001b[1;33m\u001b[0m\u001b[0m\n",
      "\u001b[1;32m<ipython-input-4-cfe710f754fb>\u001b[0m in \u001b[0;36mE_step\u001b[1;34m(data, pi, mu, sigma)\u001b[0m\n\u001b[0;32m     10\u001b[0m \u001b[1;33m\u001b[0m\u001b[0m\n\u001b[0;32m     11\u001b[0m     \u001b[1;32mfor\u001b[0m \u001b[0mnk\u001b[0m \u001b[1;32min\u001b[0m \u001b[0mrange\u001b[0m\u001b[1;33m(\u001b[0m\u001b[0mK\u001b[0m\u001b[1;33m)\u001b[0m\u001b[1;33m:\u001b[0m\u001b[1;33m\u001b[0m\u001b[1;33m\u001b[0m\u001b[0m\n\u001b[1;32m---> 12\u001b[1;33m         \u001b[0mgamma\u001b[0m\u001b[1;33m[\u001b[0m\u001b[1;33m:\u001b[0m\u001b[1;33m,\u001b[0m \u001b[0mnk\u001b[0m\u001b[1;33m]\u001b[0m \u001b[1;33m=\u001b[0m \u001b[0mpi\u001b[0m\u001b[1;33m[\u001b[0m\u001b[0mnk\u001b[0m\u001b[1;33m]\u001b[0m\u001b[1;33m*\u001b[0m\u001b[0mmultivariate_normal\u001b[0m\u001b[1;33m.\u001b[0m\u001b[0mpdf\u001b[0m\u001b[1;33m(\u001b[0m\u001b[0mdata\u001b[0m\u001b[1;33m,\u001b[0m \u001b[0mmean\u001b[0m\u001b[1;33m=\u001b[0m\u001b[0mmu\u001b[0m\u001b[1;33m[\u001b[0m\u001b[0mnk\u001b[0m\u001b[1;33m]\u001b[0m\u001b[1;33m,\u001b[0m \u001b[0mcov\u001b[0m\u001b[1;33m=\u001b[0m\u001b[0msigma\u001b[0m\u001b[1;33m[\u001b[0m\u001b[0mnk\u001b[0m\u001b[1;33m]\u001b[0m\u001b[1;33m)\u001b[0m\u001b[1;33m\u001b[0m\u001b[1;33m\u001b[0m\u001b[0m\n\u001b[0m\u001b[0;32m     13\u001b[0m \u001b[1;33m\u001b[0m\u001b[0m\n\u001b[0;32m     14\u001b[0m \u001b[1;33m\u001b[0m\u001b[0m\n",
      "\u001b[1;32m~\\anaconda3\\lib\\site-packages\\scipy\\stats\\_multivariate.py\u001b[0m in \u001b[0;36mpdf\u001b[1;34m(self, x, mean, cov, allow_singular)\u001b[0m\n\u001b[0;32m    525\u001b[0m         \u001b[0mdim\u001b[0m\u001b[1;33m,\u001b[0m \u001b[0mmean\u001b[0m\u001b[1;33m,\u001b[0m \u001b[0mcov\u001b[0m \u001b[1;33m=\u001b[0m \u001b[0mself\u001b[0m\u001b[1;33m.\u001b[0m\u001b[0m_process_parameters\u001b[0m\u001b[1;33m(\u001b[0m\u001b[1;32mNone\u001b[0m\u001b[1;33m,\u001b[0m \u001b[0mmean\u001b[0m\u001b[1;33m,\u001b[0m \u001b[0mcov\u001b[0m\u001b[1;33m)\u001b[0m\u001b[1;33m\u001b[0m\u001b[1;33m\u001b[0m\u001b[0m\n\u001b[0;32m    526\u001b[0m         \u001b[0mx\u001b[0m \u001b[1;33m=\u001b[0m \u001b[0mself\u001b[0m\u001b[1;33m.\u001b[0m\u001b[0m_process_quantiles\u001b[0m\u001b[1;33m(\u001b[0m\u001b[0mx\u001b[0m\u001b[1;33m,\u001b[0m \u001b[0mdim\u001b[0m\u001b[1;33m)\u001b[0m\u001b[1;33m\u001b[0m\u001b[1;33m\u001b[0m\u001b[0m\n\u001b[1;32m--> 527\u001b[1;33m         \u001b[0mpsd\u001b[0m \u001b[1;33m=\u001b[0m \u001b[0m_PSD\u001b[0m\u001b[1;33m(\u001b[0m\u001b[0mcov\u001b[0m\u001b[1;33m,\u001b[0m \u001b[0mallow_singular\u001b[0m\u001b[1;33m=\u001b[0m\u001b[0mallow_singular\u001b[0m\u001b[1;33m)\u001b[0m\u001b[1;33m\u001b[0m\u001b[1;33m\u001b[0m\u001b[0m\n\u001b[0m\u001b[0;32m    528\u001b[0m         \u001b[0mout\u001b[0m \u001b[1;33m=\u001b[0m \u001b[0mnp\u001b[0m\u001b[1;33m.\u001b[0m\u001b[0mexp\u001b[0m\u001b[1;33m(\u001b[0m\u001b[0mself\u001b[0m\u001b[1;33m.\u001b[0m\u001b[0m_logpdf\u001b[0m\u001b[1;33m(\u001b[0m\u001b[0mx\u001b[0m\u001b[1;33m,\u001b[0m \u001b[0mmean\u001b[0m\u001b[1;33m,\u001b[0m \u001b[0mpsd\u001b[0m\u001b[1;33m.\u001b[0m\u001b[0mU\u001b[0m\u001b[1;33m,\u001b[0m \u001b[0mpsd\u001b[0m\u001b[1;33m.\u001b[0m\u001b[0mlog_pdet\u001b[0m\u001b[1;33m,\u001b[0m \u001b[0mpsd\u001b[0m\u001b[1;33m.\u001b[0m\u001b[0mrank\u001b[0m\u001b[1;33m)\u001b[0m\u001b[1;33m)\u001b[0m\u001b[1;33m\u001b[0m\u001b[1;33m\u001b[0m\u001b[0m\n\u001b[0;32m    529\u001b[0m         \u001b[1;32mreturn\u001b[0m \u001b[0m_squeeze_output\u001b[0m\u001b[1;33m(\u001b[0m\u001b[0mout\u001b[0m\u001b[1;33m)\u001b[0m\u001b[1;33m\u001b[0m\u001b[1;33m\u001b[0m\u001b[0m\n",
      "\u001b[1;32m~\\anaconda3\\lib\\site-packages\\scipy\\stats\\_multivariate.py\u001b[0m in \u001b[0;36m__init__\u001b[1;34m(self, M, cond, rcond, lower, check_finite, allow_singular)\u001b[0m\n\u001b[0;32m    158\u001b[0m         \u001b[1;31m# Note that eigh takes care of array conversion, chkfinite,\u001b[0m\u001b[1;33m\u001b[0m\u001b[1;33m\u001b[0m\u001b[1;33m\u001b[0m\u001b[0m\n\u001b[0;32m    159\u001b[0m         \u001b[1;31m# and assertion that the matrix is square.\u001b[0m\u001b[1;33m\u001b[0m\u001b[1;33m\u001b[0m\u001b[1;33m\u001b[0m\u001b[0m\n\u001b[1;32m--> 160\u001b[1;33m         \u001b[0ms\u001b[0m\u001b[1;33m,\u001b[0m \u001b[0mu\u001b[0m \u001b[1;33m=\u001b[0m \u001b[0mscipy\u001b[0m\u001b[1;33m.\u001b[0m\u001b[0mlinalg\u001b[0m\u001b[1;33m.\u001b[0m\u001b[0meigh\u001b[0m\u001b[1;33m(\u001b[0m\u001b[0mM\u001b[0m\u001b[1;33m,\u001b[0m \u001b[0mlower\u001b[0m\u001b[1;33m=\u001b[0m\u001b[0mlower\u001b[0m\u001b[1;33m,\u001b[0m \u001b[0mcheck_finite\u001b[0m\u001b[1;33m=\u001b[0m\u001b[0mcheck_finite\u001b[0m\u001b[1;33m)\u001b[0m\u001b[1;33m\u001b[0m\u001b[1;33m\u001b[0m\u001b[0m\n\u001b[0m\u001b[0;32m    161\u001b[0m \u001b[1;33m\u001b[0m\u001b[0m\n\u001b[0;32m    162\u001b[0m         \u001b[0meps\u001b[0m \u001b[1;33m=\u001b[0m \u001b[0m_eigvalsh_to_eps\u001b[0m\u001b[1;33m(\u001b[0m\u001b[0ms\u001b[0m\u001b[1;33m,\u001b[0m \u001b[0mcond\u001b[0m\u001b[1;33m,\u001b[0m \u001b[0mrcond\u001b[0m\u001b[1;33m)\u001b[0m\u001b[1;33m\u001b[0m\u001b[1;33m\u001b[0m\u001b[0m\n",
      "\u001b[1;32m~\\anaconda3\\lib\\site-packages\\scipy\\linalg\\decomp.py\u001b[0m in \u001b[0;36meigh\u001b[1;34m(a, b, lower, eigvals_only, overwrite_a, overwrite_b, turbo, eigvals, type, check_finite, subset_by_index, subset_by_value, driver)\u001b[0m\n\u001b[0;32m    543\u001b[0m \u001b[1;33m\u001b[0m\u001b[0m\n\u001b[0;32m    544\u001b[0m         \u001b[0mdrv_args\u001b[0m\u001b[1;33m.\u001b[0m\u001b[0mupdate\u001b[0m\u001b[1;33m(\u001b[0m\u001b[1;33m{\u001b[0m\u001b[1;34m'lower'\u001b[0m\u001b[1;33m:\u001b[0m \u001b[0mlower\u001b[0m\u001b[1;33m,\u001b[0m \u001b[1;34m'compute_v'\u001b[0m\u001b[1;33m:\u001b[0m \u001b[1;36m0\u001b[0m \u001b[1;32mif\u001b[0m \u001b[0m_job\u001b[0m \u001b[1;33m==\u001b[0m \u001b[1;34m\"N\"\u001b[0m \u001b[1;32melse\u001b[0m \u001b[1;36m1\u001b[0m\u001b[1;33m}\u001b[0m\u001b[1;33m)\u001b[0m\u001b[1;33m\u001b[0m\u001b[1;33m\u001b[0m\u001b[0m\n\u001b[1;32m--> 545\u001b[1;33m         \u001b[0mw\u001b[0m\u001b[1;33m,\u001b[0m \u001b[0mv\u001b[0m\u001b[1;33m,\u001b[0m \u001b[1;33m*\u001b[0m\u001b[0mother_args\u001b[0m\u001b[1;33m,\u001b[0m \u001b[0minfo\u001b[0m \u001b[1;33m=\u001b[0m \u001b[0mdrv\u001b[0m\u001b[1;33m(\u001b[0m\u001b[0ma\u001b[0m\u001b[1;33m=\u001b[0m\u001b[0ma1\u001b[0m\u001b[1;33m,\u001b[0m \u001b[1;33m**\u001b[0m\u001b[0mdrv_args\u001b[0m\u001b[1;33m,\u001b[0m \u001b[1;33m**\u001b[0m\u001b[0mlwork_args\u001b[0m\u001b[1;33m)\u001b[0m\u001b[1;33m\u001b[0m\u001b[1;33m\u001b[0m\u001b[0m\n\u001b[0m\u001b[0;32m    546\u001b[0m \u001b[1;33m\u001b[0m\u001b[0m\n\u001b[0;32m    547\u001b[0m     \u001b[1;32melse\u001b[0m\u001b[1;33m:\u001b[0m  \u001b[1;31m# Generalized problem\u001b[0m\u001b[1;33m\u001b[0m\u001b[1;33m\u001b[0m\u001b[0m\n",
      "\u001b[1;31merror\u001b[0m: (il>=1&&il<=n) failed for 6th keyword il: dsyevr:il=1"
     ]
    }
   ],
   "source": [
    "train_loop(data=X, K=3)"
   ]
  },
  {
   "cell_type": "code",
   "execution_count": 25,
   "id": "902080b0",
   "metadata": {
    "ExecuteTime": {
     "end_time": "2022-05-13T16:26:37.199527Z",
     "start_time": "2022-05-13T16:26:37.185595Z"
    }
   },
   "outputs": [
    {
     "data": {
      "text/plain": [
       "1"
      ]
     },
     "execution_count": 25,
     "metadata": {},
     "output_type": "execute_result"
    }
   ],
   "source": [
    "len(X.shape)"
   ]
  },
  {
   "cell_type": "code",
   "execution_count": 26,
   "id": "f55efcd9",
   "metadata": {
    "ExecuteTime": {
     "end_time": "2022-05-13T16:26:42.116671Z",
     "start_time": "2022-05-13T16:26:42.104703Z"
    }
   },
   "outputs": [],
   "source": [
    "this_test = (5,1)"
   ]
  },
  {
   "cell_type": "code",
   "execution_count": 20,
   "id": "08f4b4d9",
   "metadata": {
    "ExecuteTime": {
     "end_time": "2022-05-13T16:26:07.991536Z",
     "start_time": "2022-05-13T16:26:07.968557Z"
    }
   },
   "outputs": [
    {
     "ename": "ValueError",
     "evalue": "not enough values to unpack (expected 2, got 1)",
     "output_type": "error",
     "traceback": [
      "\u001b[1;31m---------------------------------------------------------------------------\u001b[0m",
      "\u001b[1;31mValueError\u001b[0m                                Traceback (most recent call last)",
      "\u001b[1;32m<ipython-input-20-a180ae7db0c7>\u001b[0m in \u001b[0;36m<module>\u001b[1;34m\u001b[0m\n\u001b[1;32m----> 1\u001b[1;33m \u001b[0mk\u001b[0m\u001b[1;33m,\u001b[0m \u001b[0md\u001b[0m \u001b[1;33m=\u001b[0m \u001b[0mthis_test\u001b[0m\u001b[1;33m\u001b[0m\u001b[1;33m\u001b[0m\u001b[0m\n\u001b[0m",
      "\u001b[1;31mValueError\u001b[0m: not enough values to unpack (expected 2, got 1)"
     ]
    }
   ],
   "source": [
    "k, d = this_test"
   ]
  },
  {
   "cell_type": "code",
   "execution_count": null,
   "id": "88fb24e6",
   "metadata": {},
   "outputs": [],
   "source": []
  }
 ],
 "metadata": {
  "kernelspec": {
   "display_name": "Python 3",
   "language": "python",
   "name": "python3"
  },
  "language_info": {
   "codemirror_mode": {
    "name": "ipython",
    "version": 3
   },
   "file_extension": ".py",
   "mimetype": "text/x-python",
   "name": "python",
   "nbconvert_exporter": "python",
   "pygments_lexer": "ipython3",
   "version": "3.8.8"
  },
  "toc": {
   "base_numbering": 1,
   "nav_menu": {},
   "number_sections": true,
   "sideBar": true,
   "skip_h1_title": false,
   "title_cell": "Table of Contents",
   "title_sidebar": "Contents",
   "toc_cell": false,
   "toc_position": {},
   "toc_section_display": true,
   "toc_window_display": false
  },
  "varInspector": {
   "cols": {
    "lenName": 16,
    "lenType": 16,
    "lenVar": 40
   },
   "kernels_config": {
    "python": {
     "delete_cmd_postfix": "",
     "delete_cmd_prefix": "del ",
     "library": "var_list.py",
     "varRefreshCmd": "print(var_dic_list())"
    },
    "r": {
     "delete_cmd_postfix": ") ",
     "delete_cmd_prefix": "rm(",
     "library": "var_list.r",
     "varRefreshCmd": "cat(var_dic_list()) "
    }
   },
   "types_to_exclude": [
    "module",
    "function",
    "builtin_function_or_method",
    "instance",
    "_Feature"
   ],
   "window_display": false
  }
 },
 "nbformat": 4,
 "nbformat_minor": 5
}
