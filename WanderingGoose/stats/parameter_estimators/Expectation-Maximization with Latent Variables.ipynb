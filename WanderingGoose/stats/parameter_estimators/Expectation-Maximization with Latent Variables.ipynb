{
 "cells": [
  {
   "cell_type": "markdown",
   "id": "a8852ce7",
   "metadata": {},
   "source": [
    "# Expectation-Maximization with Latent Variables"
   ]
  },
  {
   "cell_type": "markdown",
   "id": "7406833b",
   "metadata": {},
   "source": [
    "## Topics"
   ]
  },
  {
   "cell_type": "markdown",
   "id": "7f9c4782",
   "metadata": {},
   "source": [
    "- <b>Probability Density Function (PDF)</b>, or density of a continuous random variable, is a function whose value at any given sample (or point) in the sample space (the set of possible values taken by the random variable) can be interpreted as providing a relative likelihood that the value of the random variable would be close to that sample.\n",
    "- <b>Density Estimation</b> is the construction of an estimate, based on observed data, of an unobservable underlying <b>probability density function</b>\n",
    "- <b>Maximum Likelihood Estimation (MLE)</b> is a method of estimating the parameters of an assumed probability distribution. It is a probabalistic framework for solving the problem of <b>Density Estimation</b>.\n",
    "- <b>Latent Variables</b> (from Latin: present participle of lateo (“lie hidden”), opposed to observable variables) are variables that are not directly observed but are rather inferred through a mathematical model from other variables that are observed (directly measured).\n",
    "- <b>Expectation–Maximization (EM)</b> algorithm is an iterative method to find (local) <b>maximum likelihood</b> or <b>maximum a posteriori (MAP)</b> estimates of parameters in statistical models, where the model depends on unobserved <b>latent variables</b>."
   ]
  },
  {
   "cell_type": "code",
   "execution_count": null,
   "id": "cd78ef6a",
   "metadata": {},
   "outputs": [],
   "source": []
  }
 ],
 "metadata": {
  "kernelspec": {
   "display_name": "Python 3",
   "language": "python",
   "name": "python3"
  },
  "language_info": {
   "codemirror_mode": {
    "name": "ipython",
    "version": 3
   },
   "file_extension": ".py",
   "mimetype": "text/x-python",
   "name": "python",
   "nbconvert_exporter": "python",
   "pygments_lexer": "ipython3",
   "version": "3.8.8"
  },
  "toc": {
   "base_numbering": 1,
   "nav_menu": {},
   "number_sections": true,
   "sideBar": true,
   "skip_h1_title": false,
   "title_cell": "Table of Contents",
   "title_sidebar": "Contents",
   "toc_cell": false,
   "toc_position": {},
   "toc_section_display": true,
   "toc_window_display": true
  },
  "varInspector": {
   "cols": {
    "lenName": 16,
    "lenType": 16,
    "lenVar": 40
   },
   "kernels_config": {
    "python": {
     "delete_cmd_postfix": "",
     "delete_cmd_prefix": "del ",
     "library": "var_list.py",
     "varRefreshCmd": "print(var_dic_list())"
    },
    "r": {
     "delete_cmd_postfix": ") ",
     "delete_cmd_prefix": "rm(",
     "library": "var_list.r",
     "varRefreshCmd": "cat(var_dic_list()) "
    }
   },
   "types_to_exclude": [
    "module",
    "function",
    "builtin_function_or_method",
    "instance",
    "_Feature"
   ],
   "window_display": false
  }
 },
 "nbformat": 4,
 "nbformat_minor": 5
}
