{
 "cells": [
  {
   "cell_type": "code",
   "execution_count": null,
   "source": [
    "import sys\r\n",
    "sys.path.append('..') # monkey patch paths to be able to see WanderingGoose package"
   ],
   "outputs": [],
   "metadata": {}
  },
  {
   "cell_type": "code",
   "execution_count": null,
   "source": [
    "import numpy as np\r\n",
    "\r\n",
    "from WanderingGoose.viz.standard.basic_bivariate_plot import basic_bivariate_plot\r\n",
    "from WanderingGoose.viz.standard.linear_fit_plot import linear_fit_plot\r\n",
    "from WanderingGoose.viz.standard.poly_fit_plot import poly_fit_plot\r\n",
    "from WanderingGoose.viz.diagnostic.residuals_plot import residuals_plot"
   ],
   "outputs": [],
   "metadata": {
    "ExecuteTime": {
     "end_time": "2021-11-04T07:13:18.680295Z",
     "start_time": "2021-11-04T07:13:17.473874Z"
    }
   }
  },
  {
   "cell_type": "markdown",
   "source": [
    "# Create Data"
   ],
   "metadata": {}
  },
  {
   "cell_type": "code",
   "execution_count": null,
   "source": [
    "x = np.arange(0,75, 1)\r\n",
    "y = (1.25*np.exp(0.05*x)+1)\r\n",
    "y = y+np.random.normal(0, 4, y.shape)"
   ],
   "outputs": [],
   "metadata": {
    "ExecuteTime": {
     "end_time": "2021-11-04T07:13:18.695576Z",
     "start_time": "2021-11-04T07:13:18.681000Z"
    }
   }
  },
  {
   "cell_type": "markdown",
   "source": [
    "# Poly Fit Plot"
   ],
   "metadata": {}
  },
  {
   "cell_type": "code",
   "execution_count": null,
   "source": [
    "ax = poly_fit_plot(x, y, deg = 3)"
   ],
   "outputs": [],
   "metadata": {
    "ExecuteTime": {
     "end_time": "2021-11-04T07:14:03.565783Z",
     "start_time": "2021-11-04T07:14:03.373897Z"
    }
   }
  },
  {
   "cell_type": "markdown",
   "source": [
    "# Linear Fit Plot"
   ],
   "metadata": {}
  },
  {
   "cell_type": "code",
   "execution_count": null,
   "source": [
    "ax = linear_fit_plot(x, y, figsize=(7,7))"
   ],
   "outputs": [],
   "metadata": {
    "ExecuteTime": {
     "end_time": "2021-11-04T07:13:19.080423Z",
     "start_time": "2021-11-04T07:13:18.852039Z"
    }
   }
  },
  {
   "cell_type": "markdown",
   "source": [
    "# Basic Bivariate Plot"
   ],
   "metadata": {}
  },
  {
   "cell_type": "code",
   "execution_count": null,
   "source": [
    "ax = basic_bivariate_plot(x, y, figsize=(7,7))"
   ],
   "outputs": [],
   "metadata": {
    "ExecuteTime": {
     "end_time": "2021-11-04T07:14:32.662097Z",
     "start_time": "2021-11-04T07:14:32.512848Z"
    }
   }
  },
  {
   "cell_type": "markdown",
   "source": [
    "# Residuals Plot"
   ],
   "metadata": {}
  },
  {
   "cell_type": "code",
   "execution_count": null,
   "source": [
    "# Calculate Y-hat\r\n",
    "coeffs = np.polyfit(x, y, deg=1) \r\n",
    "y_hat = np.polyval(coeffs, x)"
   ],
   "outputs": [],
   "metadata": {
    "ExecuteTime": {
     "end_time": "2021-11-04T07:15:44.158785Z",
     "start_time": "2021-11-04T07:15:44.153401Z"
    }
   }
  },
  {
   "cell_type": "code",
   "execution_count": null,
   "source": [
    "ax = residuals_plot(y, y_hat)"
   ],
   "outputs": [],
   "metadata": {
    "ExecuteTime": {
     "end_time": "2021-11-04T07:16:43.500279Z",
     "start_time": "2021-11-04T07:16:43.328595Z"
    }
   }
  },
  {
   "cell_type": "code",
   "execution_count": null,
   "source": [],
   "outputs": [],
   "metadata": {}
  }
 ],
 "metadata": {
  "kernelspec": {
   "name": "python3",
   "display_name": "Python 3.8.10 64-bit ('ea-ops': conda)"
  },
  "language_info": {
   "codemirror_mode": {
    "name": "ipython",
    "version": 3
   },
   "file_extension": ".py",
   "mimetype": "text/x-python",
   "name": "python",
   "nbconvert_exporter": "python",
   "pygments_lexer": "ipython3",
   "version": "3.8.10"
  },
  "toc": {
   "base_numbering": 1,
   "nav_menu": {},
   "number_sections": true,
   "sideBar": true,
   "skip_h1_title": false,
   "title_cell": "Table of Contents",
   "title_sidebar": "Contents",
   "toc_cell": false,
   "toc_position": {},
   "toc_section_display": true,
   "toc_window_display": false
  },
  "varInspector": {
   "cols": {
    "lenName": 16,
    "lenType": 16,
    "lenVar": 40
   },
   "kernels_config": {
    "python": {
     "delete_cmd_postfix": "",
     "delete_cmd_prefix": "del ",
     "library": "var_list.py",
     "varRefreshCmd": "print(var_dic_list())"
    },
    "r": {
     "delete_cmd_postfix": ") ",
     "delete_cmd_prefix": "rm(",
     "library": "var_list.r",
     "varRefreshCmd": "cat(var_dic_list()) "
    }
   },
   "types_to_exclude": [
    "module",
    "function",
    "builtin_function_or_method",
    "instance",
    "_Feature"
   ],
   "window_display": false
  },
  "interpreter": {
   "hash": "215c3a5e69894b3a6f44054f71060e7cbc2e9a0edb25488af3e533c282907cdb"
  }
 },
 "nbformat": 4,
 "nbformat_minor": 5
}