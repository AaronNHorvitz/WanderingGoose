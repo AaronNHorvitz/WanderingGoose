{
 "cells": [
  {
   "cell_type": "code",
   "execution_count": 1,
   "id": "d8ba69a7",
   "metadata": {
    "ExecuteTime": {
     "end_time": "2021-11-29T23:59:42.021251Z",
     "start_time": "2021-11-29T23:59:40.570718Z"
    }
   },
   "outputs": [],
   "source": [
    "import pandas as pd\n",
    "import numpy as np\n",
    "\n",
    "import matplotlib.pyplot as plt\n",
    "import matplotlib as mpl\n",
    "from sklearn.preprocessing import StandardScaler\n",
    "from sklearn.decomposition import PCA"
   ]
  },
  {
   "cell_type": "markdown",
   "id": "a760b47e",
   "metadata": {},
   "source": [
    "# Load Data"
   ]
  },
  {
   "cell_type": "code",
   "execution_count": 2,
   "id": "784aec58",
   "metadata": {
    "ExecuteTime": {
     "end_time": "2021-11-29T23:59:42.085333Z",
     "start_time": "2021-11-29T23:59:42.023149Z"
    }
   },
   "outputs": [],
   "source": [
    "# Load IRIS Data into a dataframe\n",
    "from sklearn import datasets\n",
    "iris = datasets.load_iris()    \n",
    "df = pd.DataFrame(data= np.c_[iris['data'], iris['target']],columns= iris['feature_names'] + ['target'])\n",
    "\n",
    "# Target and Data\n",
    "y = df['target']\n",
    "X = df[[col for col in df.columns if col not in ['target']]]"
   ]
  },
  {
   "cell_type": "code",
   "execution_count": 3,
   "id": "5b47b7a9",
   "metadata": {
    "ExecuteTime": {
     "end_time": "2021-11-29T23:59:42.101344Z",
     "start_time": "2021-11-29T23:59:42.087330Z"
    }
   },
   "outputs": [],
   "source": [
    "# Settings\n",
    "n_components = None\n",
    "data = X.copy()"
   ]
  },
  {
   "cell_type": "markdown",
   "id": "d0937265",
   "metadata": {},
   "source": [
    "# Standardize"
   ]
  },
  {
   "cell_type": "code",
   "execution_count": 4,
   "id": "7ff4beb0",
   "metadata": {
    "ExecuteTime": {
     "end_time": "2021-11-29T23:59:42.116935Z",
     "start_time": "2021-11-29T23:59:42.103879Z"
    }
   },
   "outputs": [],
   "source": [
    "#from sklearn.preprocessing import StandardScaler"
   ]
  },
  {
   "cell_type": "code",
   "execution_count": 5,
   "id": "fbcbed22",
   "metadata": {
    "ExecuteTime": {
     "end_time": "2021-11-29T23:59:42.131977Z",
     "start_time": "2021-11-29T23:59:42.118922Z"
    }
   },
   "outputs": [],
   "source": [
    "# from sklearn.preprocessing import StandardScaler\n",
    "# std = StandardScaler\n",
    "# data_X = data.to_numpy()\n",
    "# data = std.fit_transform(data_X)"
   ]
  },
  {
   "cell_type": "markdown",
   "id": "2801f77b",
   "metadata": {},
   "source": [
    "# PCA and Features"
   ]
  },
  {
   "cell_type": "code",
   "execution_count": null,
   "id": "9e67ca3c",
   "metadata": {},
   "outputs": [],
   "source": [
    "def calculate_principal_components(data):\n",
    "    \n",
    "    pca = PCA()\n",
    "    p_components = pca.fit_transform(data)\n",
    "    p_components = pd.DataFrame(p_components)\n",
    "\n",
    "    # Add the principal component columns\n",
    "    p_components.columns = p_components.columns+1\n",
    "    p_components = p_components.add_prefix('Principal Component ')\n",
    "    \n",
    "    return p_components"
   ]
  },
  {
   "cell_type": "code",
   "execution_count": 24,
   "id": "b2d478c1",
   "metadata": {
    "ExecuteTime": {
     "end_time": "2021-11-30T00:09:44.583939Z",
     "start_time": "2021-11-30T00:09:44.571814Z"
    }
   },
   "outputs": [],
   "source": [
    "def create_covariance_matrix(data, styled=True):\n",
    "\n",
    "    pca = PCA()\n",
    "    pca.fit_transform(data)\n",
    "    covariance_matrix = pd.DataFrame(pca.get_covariance())\n",
    "    covariance_matrix.columns = data.columns\n",
    "    covariance_matrix.index = data.columns   \n",
    "    \n",
    "    if styled==False:\n",
    "        return covariance_matrix \n",
    "    \n",
    "    styled_covariance_matrix = covariance_matrix.style.set_properties(**{\"text-align\": \"center\"})\n",
    "    styled_covariance_matrix = styled_covariance_matrix.set_caption(\"Covariance Matrix\").set_table_styles(\n",
    "        [\n",
    "            {\n",
    "                \"selector\": \"caption\",\n",
    "                \"props\": [\n",
    "                    (\"color\", \"dodgerblue\"),\n",
    "                    (\"font-size\", \"18px\"),\n",
    "                    (\"font-weight:\", \"bold\"),\n",
    "                ],\n",
    "            }\n",
    "        ]\n",
    "    )\n",
    "\n",
    "    return styled_covariance_matrix    "
   ]
  },
  {
   "cell_type": "code",
   "execution_count": 25,
   "id": "9052fe0d",
   "metadata": {
    "ExecuteTime": {
     "end_time": "2021-11-30T00:09:45.190935Z",
     "start_time": "2021-11-30T00:09:45.179848Z"
    }
   },
   "outputs": [],
   "source": [
    "def create_eigenvectors_matrix(data, styled=True):\n",
    "    \n",
    "    pca = PCA()\n",
    "    pca.fit_transform(data)\n",
    "    eigenvectors = pd.DataFrame(pca.components_)\n",
    "    eigenvectors.columns = p_components.columns\n",
    "    eigenvectors.index = data.columns\n",
    "    \n",
    "    if styled==False:\n",
    "        return eigenvectors\n",
    "\n",
    "    def color_eigenvectors(val):\n",
    "\n",
    "        if abs(val) >= 0.5:\n",
    "            color = 'dodgerblue'\n",
    "            fontweight = 'bold'\n",
    "        elif (abs(val) >= 0.25) and (abs(val) < 0.5):\n",
    "            color='cadetblue'\n",
    "            fontweight = 'bold'\n",
    "        else:\n",
    "            color = \"silver\"\n",
    "            fontweight = 'medium'\n",
    "        return \"color: %s\" % color\n",
    "\n",
    "    styled_eigenvectors = eigenvectors.style.set_properties(**{\"text-align\": \"center\"})\n",
    "\n",
    "    for pc in range(1,len(eigenvectors.columns)+1):\n",
    "        styled_eigenvectors = styled_eigenvectors.applymap(color_eigenvectors, subset=[f'Principal Component {pc}'])\n",
    "    styled_eigenvectors = styled_eigenvectors.set_caption(\"Eigenvectors\").set_table_styles(\n",
    "        [\n",
    "            {\n",
    "                \"selector\": \"caption\",\n",
    "                \"props\": [\n",
    "                    (\"color\", \"dodgerblue\"),\n",
    "                    (\"font-size\", \"18px\"),\n",
    "                    (\"font-weight:\", \"bold\"),\n",
    "                ],\n",
    "            }\n",
    "        ]\n",
    "    )\n",
    "\n",
    "    return styled_eigenvectors"
   ]
  },
  {
   "cell_type": "code",
   "execution_count": 27,
   "id": "0ed9fde3",
   "metadata": {
    "ExecuteTime": {
     "end_time": "2021-11-30T00:13:45.915275Z",
     "start_time": "2021-11-30T00:13:45.897801Z"
    }
   },
   "outputs": [],
   "source": [
    "\n",
    "    "
   ]
  },
  {
   "cell_type": "code",
   "execution_count": 31,
   "id": "a7466406",
   "metadata": {
    "ExecuteTime": {
     "end_time": "2021-11-30T00:15:46.210250Z",
     "start_time": "2021-11-30T00:15:46.132751Z"
    }
   },
   "outputs": [
    {
     "name": "stdout",
     "output_type": "stream",
     "text": [
      "\n",
      "Original Data With Principal Components Added\n"
     ]
    },
    {
     "data": {
      "text/html": [
       "<div>\n",
       "<style scoped>\n",
       "    .dataframe tbody tr th:only-of-type {\n",
       "        vertical-align: middle;\n",
       "    }\n",
       "\n",
       "    .dataframe tbody tr th {\n",
       "        vertical-align: top;\n",
       "    }\n",
       "\n",
       "    .dataframe thead th {\n",
       "        text-align: right;\n",
       "    }\n",
       "</style>\n",
       "<table border=\"1\" class=\"dataframe\">\n",
       "  <thead>\n",
       "    <tr style=\"text-align: right;\">\n",
       "      <th></th>\n",
       "      <th>sepal length (cm)</th>\n",
       "      <th>sepal width (cm)</th>\n",
       "      <th>petal length (cm)</th>\n",
       "      <th>petal width (cm)</th>\n",
       "      <th>Principal Component 1</th>\n",
       "      <th>Principal Component 2</th>\n",
       "      <th>Principal Component 3</th>\n",
       "      <th>Principal Component 4</th>\n",
       "    </tr>\n",
       "  </thead>\n",
       "  <tbody>\n",
       "    <tr>\n",
       "      <th>0</th>\n",
       "      <td>5.1</td>\n",
       "      <td>3.5</td>\n",
       "      <td>1.4</td>\n",
       "      <td>0.2</td>\n",
       "      <td>-2.684126</td>\n",
       "      <td>0.319397</td>\n",
       "      <td>-0.027915</td>\n",
       "      <td>-0.002262</td>\n",
       "    </tr>\n",
       "    <tr>\n",
       "      <th>1</th>\n",
       "      <td>4.9</td>\n",
       "      <td>3.0</td>\n",
       "      <td>1.4</td>\n",
       "      <td>0.2</td>\n",
       "      <td>-2.714142</td>\n",
       "      <td>-0.177001</td>\n",
       "      <td>-0.210464</td>\n",
       "      <td>-0.099027</td>\n",
       "    </tr>\n",
       "    <tr>\n",
       "      <th>2</th>\n",
       "      <td>4.7</td>\n",
       "      <td>3.2</td>\n",
       "      <td>1.3</td>\n",
       "      <td>0.2</td>\n",
       "      <td>-2.888991</td>\n",
       "      <td>-0.144949</td>\n",
       "      <td>0.017900</td>\n",
       "      <td>-0.019968</td>\n",
       "    </tr>\n",
       "    <tr>\n",
       "      <th>3</th>\n",
       "      <td>4.6</td>\n",
       "      <td>3.1</td>\n",
       "      <td>1.5</td>\n",
       "      <td>0.2</td>\n",
       "      <td>-2.745343</td>\n",
       "      <td>-0.318299</td>\n",
       "      <td>0.031559</td>\n",
       "      <td>0.075576</td>\n",
       "    </tr>\n",
       "    <tr>\n",
       "      <th>4</th>\n",
       "      <td>5.0</td>\n",
       "      <td>3.6</td>\n",
       "      <td>1.4</td>\n",
       "      <td>0.2</td>\n",
       "      <td>-2.728717</td>\n",
       "      <td>0.326755</td>\n",
       "      <td>0.090079</td>\n",
       "      <td>0.061259</td>\n",
       "    </tr>\n",
       "    <tr>\n",
       "      <th>...</th>\n",
       "      <td>...</td>\n",
       "      <td>...</td>\n",
       "      <td>...</td>\n",
       "      <td>...</td>\n",
       "      <td>...</td>\n",
       "      <td>...</td>\n",
       "      <td>...</td>\n",
       "      <td>...</td>\n",
       "    </tr>\n",
       "    <tr>\n",
       "      <th>145</th>\n",
       "      <td>6.7</td>\n",
       "      <td>3.0</td>\n",
       "      <td>5.2</td>\n",
       "      <td>2.3</td>\n",
       "      <td>1.944110</td>\n",
       "      <td>0.187532</td>\n",
       "      <td>0.177825</td>\n",
       "      <td>-0.426196</td>\n",
       "    </tr>\n",
       "    <tr>\n",
       "      <th>146</th>\n",
       "      <td>6.3</td>\n",
       "      <td>2.5</td>\n",
       "      <td>5.0</td>\n",
       "      <td>1.9</td>\n",
       "      <td>1.527167</td>\n",
       "      <td>-0.375317</td>\n",
       "      <td>-0.121898</td>\n",
       "      <td>-0.254367</td>\n",
       "    </tr>\n",
       "    <tr>\n",
       "      <th>147</th>\n",
       "      <td>6.5</td>\n",
       "      <td>3.0</td>\n",
       "      <td>5.2</td>\n",
       "      <td>2.0</td>\n",
       "      <td>1.764346</td>\n",
       "      <td>0.078859</td>\n",
       "      <td>0.130482</td>\n",
       "      <td>-0.137001</td>\n",
       "    </tr>\n",
       "    <tr>\n",
       "      <th>148</th>\n",
       "      <td>6.2</td>\n",
       "      <td>3.4</td>\n",
       "      <td>5.4</td>\n",
       "      <td>2.3</td>\n",
       "      <td>1.900942</td>\n",
       "      <td>0.116628</td>\n",
       "      <td>0.723252</td>\n",
       "      <td>-0.044595</td>\n",
       "    </tr>\n",
       "    <tr>\n",
       "      <th>149</th>\n",
       "      <td>5.9</td>\n",
       "      <td>3.0</td>\n",
       "      <td>5.1</td>\n",
       "      <td>1.8</td>\n",
       "      <td>1.390189</td>\n",
       "      <td>-0.282661</td>\n",
       "      <td>0.362910</td>\n",
       "      <td>0.155039</td>\n",
       "    </tr>\n",
       "  </tbody>\n",
       "</table>\n",
       "<p>150 rows × 8 columns</p>\n",
       "</div>"
      ],
      "text/plain": [
       "     sepal length (cm)  sepal width (cm)  petal length (cm)  petal width (cm)  \\\n",
       "0                  5.1               3.5                1.4               0.2   \n",
       "1                  4.9               3.0                1.4               0.2   \n",
       "2                  4.7               3.2                1.3               0.2   \n",
       "3                  4.6               3.1                1.5               0.2   \n",
       "4                  5.0               3.6                1.4               0.2   \n",
       "..                 ...               ...                ...               ...   \n",
       "145                6.7               3.0                5.2               2.3   \n",
       "146                6.3               2.5                5.0               1.9   \n",
       "147                6.5               3.0                5.2               2.0   \n",
       "148                6.2               3.4                5.4               2.3   \n",
       "149                5.9               3.0                5.1               1.8   \n",
       "\n",
       "     Principal Component 1  Principal Component 2  Principal Component 3  \\\n",
       "0                -2.684126               0.319397              -0.027915   \n",
       "1                -2.714142              -0.177001              -0.210464   \n",
       "2                -2.888991              -0.144949               0.017900   \n",
       "3                -2.745343              -0.318299               0.031559   \n",
       "4                -2.728717               0.326755               0.090079   \n",
       "..                     ...                    ...                    ...   \n",
       "145               1.944110               0.187532               0.177825   \n",
       "146               1.527167              -0.375317              -0.121898   \n",
       "147               1.764346               0.078859               0.130482   \n",
       "148               1.900942               0.116628               0.723252   \n",
       "149               1.390189              -0.282661               0.362910   \n",
       "\n",
       "     Principal Component 4  \n",
       "0                -0.002262  \n",
       "1                -0.099027  \n",
       "2                -0.019968  \n",
       "3                 0.075576  \n",
       "4                 0.061259  \n",
       "..                     ...  \n",
       "145              -0.426196  \n",
       "146              -0.254367  \n",
       "147              -0.137001  \n",
       "148              -0.044595  \n",
       "149               0.155039  \n",
       "\n",
       "[150 rows x 8 columns]"
      ]
     },
     "metadata": {},
     "output_type": "display_data"
    },
    {
     "name": "stdout",
     "output_type": "stream",
     "text": [
      "Matrix of Eigenvalues for a Pareto Diagram\n"
     ]
    },
    {
     "data": {
      "text/html": [
       "<div>\n",
       "<style scoped>\n",
       "    .dataframe tbody tr th:only-of-type {\n",
       "        vertical-align: middle;\n",
       "    }\n",
       "\n",
       "    .dataframe tbody tr th {\n",
       "        vertical-align: top;\n",
       "    }\n",
       "\n",
       "    .dataframe thead th {\n",
       "        text-align: right;\n",
       "    }\n",
       "</style>\n",
       "<table border=\"1\" class=\"dataframe\">\n",
       "  <thead>\n",
       "    <tr style=\"text-align: right;\">\n",
       "      <th></th>\n",
       "      <th>eigenvalues</th>\n",
       "      <th>ev_ratios</th>\n",
       "      <th>cum_percent</th>\n",
       "    </tr>\n",
       "  </thead>\n",
       "  <tbody>\n",
       "    <tr>\n",
       "      <th>0</th>\n",
       "      <td>4.228242</td>\n",
       "      <td>0.924619</td>\n",
       "      <td>92.461872</td>\n",
       "    </tr>\n",
       "    <tr>\n",
       "      <th>1</th>\n",
       "      <td>0.242671</td>\n",
       "      <td>0.053066</td>\n",
       "      <td>97.768521</td>\n",
       "    </tr>\n",
       "    <tr>\n",
       "      <th>2</th>\n",
       "      <td>0.078210</td>\n",
       "      <td>0.017103</td>\n",
       "      <td>99.478782</td>\n",
       "    </tr>\n",
       "    <tr>\n",
       "      <th>3</th>\n",
       "      <td>0.023835</td>\n",
       "      <td>0.005212</td>\n",
       "      <td>100.000000</td>\n",
       "    </tr>\n",
       "  </tbody>\n",
       "</table>\n",
       "</div>"
      ],
      "text/plain": [
       "   eigenvalues  ev_ratios  cum_percent\n",
       "0     4.228242   0.924619    92.461872\n",
       "1     0.242671   0.053066    97.768521\n",
       "2     0.078210   0.017103    99.478782\n",
       "3     0.023835   0.005212   100.000000"
      ]
     },
     "metadata": {},
     "output_type": "display_data"
    },
    {
     "data": {
      "text/html": [
       "<style  type=\"text/css\" >\n",
       "    #T_a41b8_ caption {\n",
       "          color: dodgerblue;\n",
       "          font-size: 18px;\n",
       "          font-weight:: bold;\n",
       "    }#T_a41b8_row0_col0,#T_a41b8_row0_col1,#T_a41b8_row0_col2,#T_a41b8_row0_col3,#T_a41b8_row1_col0,#T_a41b8_row1_col1,#T_a41b8_row1_col2,#T_a41b8_row1_col3,#T_a41b8_row2_col0,#T_a41b8_row2_col1,#T_a41b8_row2_col2,#T_a41b8_row2_col3,#T_a41b8_row3_col0,#T_a41b8_row3_col1,#T_a41b8_row3_col2,#T_a41b8_row3_col3{\n",
       "            text-align:  center;\n",
       "        }</style><table id=\"T_a41b8_\" ><caption>Covariance Matrix</caption><thead>    <tr>        <th class=\"blank level0\" ></th>        <th class=\"col_heading level0 col0\" >sepal length (cm)</th>        <th class=\"col_heading level0 col1\" >sepal width (cm)</th>        <th class=\"col_heading level0 col2\" >petal length (cm)</th>        <th class=\"col_heading level0 col3\" >petal width (cm)</th>    </tr></thead><tbody>\n",
       "                <tr>\n",
       "                        <th id=\"T_a41b8_level0_row0\" class=\"row_heading level0 row0\" >sepal length (cm)</th>\n",
       "                        <td id=\"T_a41b8_row0_col0\" class=\"data row0 col0\" >0.685694</td>\n",
       "                        <td id=\"T_a41b8_row0_col1\" class=\"data row0 col1\" >-0.042434</td>\n",
       "                        <td id=\"T_a41b8_row0_col2\" class=\"data row0 col2\" >1.274315</td>\n",
       "                        <td id=\"T_a41b8_row0_col3\" class=\"data row0 col3\" >0.516271</td>\n",
       "            </tr>\n",
       "            <tr>\n",
       "                        <th id=\"T_a41b8_level0_row1\" class=\"row_heading level0 row1\" >sepal width (cm)</th>\n",
       "                        <td id=\"T_a41b8_row1_col0\" class=\"data row1 col0\" >-0.042434</td>\n",
       "                        <td id=\"T_a41b8_row1_col1\" class=\"data row1 col1\" >0.189979</td>\n",
       "                        <td id=\"T_a41b8_row1_col2\" class=\"data row1 col2\" >-0.329656</td>\n",
       "                        <td id=\"T_a41b8_row1_col3\" class=\"data row1 col3\" >-0.121639</td>\n",
       "            </tr>\n",
       "            <tr>\n",
       "                        <th id=\"T_a41b8_level0_row2\" class=\"row_heading level0 row2\" >petal length (cm)</th>\n",
       "                        <td id=\"T_a41b8_row2_col0\" class=\"data row2 col0\" >1.274315</td>\n",
       "                        <td id=\"T_a41b8_row2_col1\" class=\"data row2 col1\" >-0.329656</td>\n",
       "                        <td id=\"T_a41b8_row2_col2\" class=\"data row2 col2\" >3.116278</td>\n",
       "                        <td id=\"T_a41b8_row2_col3\" class=\"data row2 col3\" >1.295609</td>\n",
       "            </tr>\n",
       "            <tr>\n",
       "                        <th id=\"T_a41b8_level0_row3\" class=\"row_heading level0 row3\" >petal width (cm)</th>\n",
       "                        <td id=\"T_a41b8_row3_col0\" class=\"data row3 col0\" >0.516271</td>\n",
       "                        <td id=\"T_a41b8_row3_col1\" class=\"data row3 col1\" >-0.121639</td>\n",
       "                        <td id=\"T_a41b8_row3_col2\" class=\"data row3 col2\" >1.295609</td>\n",
       "                        <td id=\"T_a41b8_row3_col3\" class=\"data row3 col3\" >0.581006</td>\n",
       "            </tr>\n",
       "    </tbody></table>"
      ],
      "text/plain": [
       "<pandas.io.formats.style.Styler at 0x2155207fee0>"
      ]
     },
     "metadata": {},
     "output_type": "display_data"
    },
    {
     "data": {
      "text/html": [
       "<style  type=\"text/css\" >\n",
       "    #T_fa0a2_ caption {\n",
       "          color: dodgerblue;\n",
       "          font-size: 18px;\n",
       "          font-weight:: bold;\n",
       "    }#T_fa0a2_row0_col0,#T_fa0a2_row0_col3,#T_fa0a2_row3_col0,#T_fa0a2_row3_col1,#T_fa0a2_row3_col2{\n",
       "            text-align:  center;\n",
       "            color:  cadetblue;\n",
       "        }#T_fa0a2_row0_col1,#T_fa0a2_row1_col2,#T_fa0a2_row1_col3,#T_fa0a2_row2_col2{\n",
       "            text-align:  center;\n",
       "            color:  silver;\n",
       "        }#T_fa0a2_row0_col2,#T_fa0a2_row1_col0,#T_fa0a2_row1_col1,#T_fa0a2_row2_col0,#T_fa0a2_row2_col1,#T_fa0a2_row2_col3,#T_fa0a2_row3_col3{\n",
       "            text-align:  center;\n",
       "            color:  dodgerblue;\n",
       "        }</style><table id=\"T_fa0a2_\" ><caption>Eigenvectors</caption><thead>    <tr>        <th class=\"blank level0\" ></th>        <th class=\"col_heading level0 col0\" >Principal Component 1</th>        <th class=\"col_heading level0 col1\" >Principal Component 2</th>        <th class=\"col_heading level0 col2\" >Principal Component 3</th>        <th class=\"col_heading level0 col3\" >Principal Component 4</th>    </tr></thead><tbody>\n",
       "                <tr>\n",
       "                        <th id=\"T_fa0a2_level0_row0\" class=\"row_heading level0 row0\" >sepal length (cm)</th>\n",
       "                        <td id=\"T_fa0a2_row0_col0\" class=\"data row0 col0\" >0.361387</td>\n",
       "                        <td id=\"T_fa0a2_row0_col1\" class=\"data row0 col1\" >-0.084523</td>\n",
       "                        <td id=\"T_fa0a2_row0_col2\" class=\"data row0 col2\" >0.856671</td>\n",
       "                        <td id=\"T_fa0a2_row0_col3\" class=\"data row0 col3\" >0.358289</td>\n",
       "            </tr>\n",
       "            <tr>\n",
       "                        <th id=\"T_fa0a2_level0_row1\" class=\"row_heading level0 row1\" >sepal width (cm)</th>\n",
       "                        <td id=\"T_fa0a2_row1_col0\" class=\"data row1 col0\" >0.656589</td>\n",
       "                        <td id=\"T_fa0a2_row1_col1\" class=\"data row1 col1\" >0.730161</td>\n",
       "                        <td id=\"T_fa0a2_row1_col2\" class=\"data row1 col2\" >-0.173373</td>\n",
       "                        <td id=\"T_fa0a2_row1_col3\" class=\"data row1 col3\" >-0.075481</td>\n",
       "            </tr>\n",
       "            <tr>\n",
       "                        <th id=\"T_fa0a2_level0_row2\" class=\"row_heading level0 row2\" >petal length (cm)</th>\n",
       "                        <td id=\"T_fa0a2_row2_col0\" class=\"data row2 col0\" >-0.582030</td>\n",
       "                        <td id=\"T_fa0a2_row2_col1\" class=\"data row2 col1\" >0.597911</td>\n",
       "                        <td id=\"T_fa0a2_row2_col2\" class=\"data row2 col2\" >0.076236</td>\n",
       "                        <td id=\"T_fa0a2_row2_col3\" class=\"data row2 col3\" >0.545831</td>\n",
       "            </tr>\n",
       "            <tr>\n",
       "                        <th id=\"T_fa0a2_level0_row3\" class=\"row_heading level0 row3\" >petal width (cm)</th>\n",
       "                        <td id=\"T_fa0a2_row3_col0\" class=\"data row3 col0\" >-0.315487</td>\n",
       "                        <td id=\"T_fa0a2_row3_col1\" class=\"data row3 col1\" >0.319723</td>\n",
       "                        <td id=\"T_fa0a2_row3_col2\" class=\"data row3 col2\" >0.479839</td>\n",
       "                        <td id=\"T_fa0a2_row3_col3\" class=\"data row3 col3\" >-0.753657</td>\n",
       "            </tr>\n",
       "    </tbody></table>"
      ],
      "text/plain": [
       "<pandas.io.formats.style.Styler at 0x21551f72a30>"
      ]
     },
     "metadata": {},
     "output_type": "display_data"
    }
   ],
   "source": [
    "# Conduct PCS\n",
    "p_components = calculate_principal_components(data)\n",
    "output_data = pd.concat([data,p_components], axis = 1)\n",
    "print(\"\\nOriginal Data With Principal Components Added\")\n",
    "display(output_data)\n",
    "\n",
    "# Explained Variance (Eigenvalues)\n",
    "eigenvalues = pca.explained_variance_\n",
    "\n",
    "# Explained Variance Ratios\n",
    "ev_ratios = pca.explained_variance_ratio_\n",
    "\n",
    "# Eigenvalues Matrix\n",
    "ev_matrix = pd.DataFrame({'eigenvalues':eigenvalues, 'ev_ratios':ev_ratios, 'cum_percent':ev_ratios.cumsum()*100})\n",
    "print(\"Matrix of Eigenvalues for a Pareto Diagram\")\n",
    "display(ev_matrix)\n",
    "\n",
    "# Covariance Matrix\n",
    "display(create_covariance_matrix(data))\n",
    "\n",
    "# Egenvectors\n",
    "display(create_eigenvectors_matrix(data))"
   ]
  },
  {
   "cell_type": "code",
   "execution_count": null,
   "id": "65a02dc1",
   "metadata": {},
   "outputs": [],
   "source": [
    "output_data = pd.concat([data,p_components], axis = 1)\n",
    "print(\"Original Data With Principal Components Added\")\n",
    "display(output_data)"
   ]
  },
  {
   "cell_type": "code",
   "execution_count": null,
   "id": "7c43f869",
   "metadata": {
    "ExecuteTime": {
     "end_time": "2021-11-29T23:59:42.731490Z",
     "start_time": "2021-11-29T23:59:40.578Z"
    }
   },
   "outputs": [],
   "source": [
    "def color_eigenvectors(val):\n",
    "\n",
    "    if abs(val) >= 0.5:\n",
    "        color = 'dodgerblue'\n",
    "        fontweight = 'bold'\n",
    "    elif (abs(val) >= 0.25) and (abs(val) < 0.5):\n",
    "        color='cadetblue'\n",
    "        fontweight = 'bold'\n",
    "    else:\n",
    "        color = \"silver\"\n",
    "        fontweight = 'medium'\n",
    "    return \"color: %s\" % color\n",
    "\n",
    "\n",
    "styled_ev = eigenvectors.style.set_properties(**{\"text-align\": \"center\"})\n",
    "\n",
    "for pc in range(1,len(eigenvectors.columns)+1):\n",
    "    styled_ev = styled_ev.applymap(color_eigenvectors, subset=[f'Principal Component {pc}'])\n",
    "styled_ev = styled_ev.set_caption(\"Eigenvectors\").set_table_styles(\n",
    "    [\n",
    "        {\n",
    "            \"selector\": \"caption\",\n",
    "            \"props\": [\n",
    "                (\"color\", \"dodgerblue\"),\n",
    "                (\"font-size\", \"18px\"),\n",
    "                (\"font-weight:\", \"bold\"),\n",
    "            ],\n",
    "        }\n",
    "    ]\n",
    ")\n",
    "display(styled_ev)"
   ]
  },
  {
   "cell_type": "code",
   "execution_count": null,
   "id": "a27e530a",
   "metadata": {
    "ExecuteTime": {
     "end_time": "2021-11-29T23:59:42.732488Z",
     "start_time": "2021-11-29T23:59:40.579Z"
    }
   },
   "outputs": [],
   "source": [
    "def color_covariance_matrix(val):\n",
    "    \n",
    "    if abs(val) >= 0.5:\n",
    "        color = 'dodgerblue'\n",
    "        fontweight = 'bold'\n",
    "    elif (abs(val) >= 0.25) and (abs(val) < 0.5):\n",
    "        color='cadetblue'\n",
    "        fontweight = 'bold'\n",
    "    else:\n",
    "        color = \"silver\"\n",
    "        fontweight = 'medium'\n",
    "    return \"color: %s\" % color\n",
    "\n",
    "\n",
    "    "
   ]
  },
  {
   "cell_type": "markdown",
   "id": "8b5cfb79",
   "metadata": {},
   "source": [
    "# Score Plot"
   ]
  },
  {
   "cell_type": "code",
   "execution_count": null,
   "id": "6ea6cf66",
   "metadata": {
    "ExecuteTime": {
     "end_time": "2021-11-29T23:59:42.733485Z",
     "start_time": "2021-11-29T23:59:40.580Z"
    }
   },
   "outputs": [],
   "source": [
    "A = 1\n",
    "B = 2\n",
    "\n",
    "# Build plot\n",
    "fig, ax = plt.subplots(figsize=(7,7))\n",
    "\n",
    "x_val = output_data[f\"Principal Component {A}\"]\n",
    "y_val = output_data[f\"Principal Component {B}\"]\n",
    "\n",
    "# Some styles only make sense if the number of points to plot\n",
    "# are below certain thresholds...\n",
    "marker = \"o\" if len(output_data ) < 50 else \".\"\n",
    "ax.scatter(x_val, y_val, marker=marker, s = 70, color=\"grey\", ec=\"k\", alpha=0.5, label = 'Data')\n",
    "\n",
    "# X and Y axis\n",
    "ax.axhline(y=0, linestyle = '-', color = 'dodgerblue', linewidth = 0.5)\n",
    "ax.axvline(x=0, linestyle = '-', color = 'dodgerblue', linewidth = 0.5)\n",
    "\n",
    "# Max/ Min\n",
    "x_limit = max(abs(x_val.min()), abs(x_val.max()))*1.20\n",
    "ax.set_xlim(-x_limit, x_limit)\n",
    "y_limit = max(abs(y_val.min()), abs(y_val.max()))*1.20\n",
    "ax.set_ylim(-y_limit, y_limit)\n",
    "\n",
    "# Labels and Title\n",
    "ax.set_ylabel(f\"Component {B}  ({(round(ev_matrix.iloc[B-1]['ev_ratios'],3))*100}%)\\n\")\n",
    "ax.set_xlabel(f\"\\nComponent {A}  ({(round(ev_matrix.iloc[A-1]['ev_ratios'],3))*100}%)\")\n",
    "ax.set_title('Score Plot\\n')\n",
    "plt.show()"
   ]
  },
  {
   "cell_type": "markdown",
   "id": "8c4bd3eb",
   "metadata": {},
   "source": [
    "# Loading Plot"
   ]
  },
  {
   "cell_type": "code",
   "execution_count": null,
   "id": "65156041",
   "metadata": {
    "ExecuteTime": {
     "end_time": "2021-11-29T23:59:42.735168Z",
     "start_time": "2021-11-29T23:59:40.581Z"
    }
   },
   "outputs": [],
   "source": [
    "# Build plot\n",
    "fig, ax = plt.subplots(figsize=(7,7))\n",
    "\n",
    "eigen_x_val = eigenvectors[f\"Principal Component {A}\"]\n",
    "eigen_y_val = eigenvectors[f\"Principal Component {B}\"]\n",
    "\n",
    "# Add circle\n",
    "circ = plt.Circle((0, 0), 1, color='dodgerblue', fill=False)\n",
    "ax.add_patch(circ)\n",
    "\n",
    "# X and Y axis\n",
    "ax.axhline(y=0, linestyle = '--', color = 'dodgerblue', linewidth = 0.5)\n",
    "ax.axvline(x=0, linestyle = '--', color = 'dodgerblue', linewidth = 0.5)\n",
    "\n",
    "# Draw arrows and annotate\n",
    "for i, row in eigenvectors.iterrows():\n",
    "    \n",
    "    # plot arrow\n",
    "    ax.arrow(\n",
    "        0, 0, \n",
    "        row[f\"Principal Component {A}\"], row[f\"Principal Component {B}\"], \n",
    "        color = 'dodgerblue', \n",
    "        length_includes_head = True,\n",
    "        head_width = 0.05,\n",
    "        shape = 'right',\n",
    "        linewidth = 1, \n",
    "    )\n",
    "    \n",
    "    if row[f\"Principal Component {B}\"]<=0: vert_adj = -0.075\n",
    "    else: vert_adj = 0.05\n",
    "        \n",
    "    ax.text(\n",
    "        row[f\"Principal Component {A}\"]-0.2, row[f\"Principal Component {B}\"]+vert_adj,\n",
    "        i\n",
    "    )\n",
    "# Scatterplot    \n",
    "ax.scatter(eigen_x_val, eigen_y_val, marker=\"o\", s = 70, color=\"grey\", ec=\"k\", alpha=1, label = 'Data')\n",
    "\n",
    "# Max/ Min\n",
    "ax.set_xlim(-1.20, 1.20)\n",
    "ax.set_ylim(-1.20, 1.20)\n",
    "\n",
    "# Labels and Title\n",
    "ax.set_ylabel(f\"Component {B}  ({(round(ev_matrix.iloc[B-1]['ev_ratios'],3))*100}%)\\n\")\n",
    "ax.set_xlabel(f\"\\nComponent {A}  ({(round(ev_matrix.iloc[A-1]['ev_ratios'],3))*100}%)\")\n",
    "ax.set_title('Loading Plot\\n')\n",
    "plt.show()"
   ]
  },
  {
   "cell_type": "code",
   "execution_count": null,
   "id": "8b6494b2",
   "metadata": {
    "ExecuteTime": {
     "end_time": "2021-11-29T23:59:42.737021Z",
     "start_time": "2021-11-29T23:59:40.582Z"
    }
   },
   "outputs": [],
   "source": [
    "ev_matrix"
   ]
  },
  {
   "cell_type": "markdown",
   "id": "c0fc9c77",
   "metadata": {},
   "source": [
    "# Eigenvalue Pareto Plot"
   ]
  },
  {
   "cell_type": "code",
   "execution_count": null,
   "id": "c23860fd",
   "metadata": {
    "ExecuteTime": {
     "end_time": "2021-11-29T23:59:42.738019Z",
     "start_time": "2021-11-29T23:59:40.584Z"
    }
   },
   "outputs": [],
   "source": [
    "max_eigenvals = 10\n",
    "\n",
    "# Set the max number of eigenvalues to show on the Pareto plot\n",
    "num_eigenvals_to_show = len(ev_matrix)\n",
    "max_threshold = False\n",
    "\n",
    "if num_eigenvals_to_show > max_eigenvals:\n",
    "    max_threshold = True\n",
    "    num_eigenvals_to_show = max_eigenvals-1\n",
    "\n",
    "# Build plot\n",
    "fig, ax = plt.subplots(figsize=(7,7))\n",
    "\n",
    "# Get the most recent values for a bar plot up to the max eigenvalues\n",
    "eigenvalues = ev_matrix['eigenvalues'][0:(num_eigenvals_to_show + 1)].sort_values(ascending=False)  # only take the first 10 eigenvalues\n",
    "ev_ratios = ev_matrix['ev_ratios'][0:(num_eigenvals_to_show + 1)].sort_values(ascending=False)*100\n",
    "cum_percent = ev_matrix['cum_percent'][0:(num_eigenvals_to_show + 1)].sort_values(ascending=True)\n",
    "\n",
    "# Append missing values if there are less than '(num_eigenvals_to_show + 1)'\n",
    "if (num_eigenvals_to_show + 1)-len(eigenvalues) > 0:\n",
    "    \n",
    "    blank_vals = list(np.full((1,(num_eigenvals_to_show + 1)-len(eigenvalues)), fill_value = '')[0])\n",
    "    y_labels = round(ev_ratios,2).append(pd.Series(blank_vals))\n",
    "    y_labels =[f'{val}%' if '' != val else '' for val in y_labels]\n",
    "\n",
    "    zero_vals = list(np.full((1,(num_eigenvals_to_show + 1)-len(eigenvalues)), fill_value = 0)[0])\n",
    "    y_nums = ev_ratios.append(pd.Series(zero_vals))\n",
    "\n",
    "y_vals = np.arange((num_eigenvals_to_show + 1)-1,-1,-1)\n",
    "\n",
    "# Make the bar plot, cumulative percentage plots, etc. \n",
    "ax.barh(y_vals, y_nums[0:len(y_vals)], align='center', color = 'lightgrey', edgecolor = 'dodgerblue', alpha=1, label = 'Percent Per Principal Component')\n",
    "ax.plot(cum_percent, y_vals[:len(cum_percent)], linestyle = '--', label = 'Cumulative Percent')\n",
    "\n",
    "# X Axis Ticker Format\n",
    "fmt = '{x:,.0f}%'\n",
    "tick = mpl.ticker.StrMethodFormatter(fmt)\n",
    "ax.xaxis.set_major_formatter(tick)\n",
    "\n",
    "# X limit\n",
    "ax.set_xlim(0,100)\n",
    "\n",
    "# Title changes to alert user of missing eigenvalues if the max threshold is less than the number eigenvalues available. \n",
    "if max_threshold:  # missing eigenvalues because there are more than the max threshold\n",
    "    not_shown = len(ev_matrix)-max_eigenvals\n",
    "    ax.set_title(f'Explained Variance-Pareto Plot\\n{num_eigenvals_to_show+1} Eigenvalues\\n{not_shown} Eigenvalue(s) not displayed.\\n')\n",
    "    ax.set_ylim(-1,(num_eigenvals_to_show + 1))\n",
    "    \n",
    "else:\n",
    "    ax.set_title(f'Explained Variance-Plot\\n{num_eigenvals_to_show} Eigenvalues\\n') \n",
    "    ax.set_ylim(0,(num_eigenvals_to_show + 1))\n",
    "\n",
    "ax.set_xlabel('\\nPercent of Variation and Cummulative Percent\\nAcccounted For Each Principal Component (PC)')\n",
    "\n",
    "# Set Y values and tick lables\n",
    "ax.set_ylabel(f'Each Principal Component (PC)\\n')\n",
    "ax.set_yticks(y_vals)\n",
    "\n",
    "# Make sure to label the principal components corresponding to the Eigenvalues\n",
    "new_y_labels = []\n",
    "for count in range(1, len(y_labels)+1):\n",
    "    new_val = f'PC {count}'\n",
    "    \n",
    "    if count == len(y_labels):\n",
    "        new_y_labels.append('')\n",
    "    else:\n",
    "        new_y_labels.append(new_val)\n",
    "    ax.text(3,count-0.04, y_labels[len(y_labels)-count-1], fontsize = 14)\n",
    "    \n",
    "ax.set_yticklabels(new_y_labels[0:len(y_vals)])\n",
    "ax.grid(axis=\"x\")\n",
    "ax.legend(loc = 3)\n",
    "plt.show()"
   ]
  },
  {
   "cell_type": "markdown",
   "id": "84d66abd",
   "metadata": {},
   "source": [
    "# Scree Plot"
   ]
  },
  {
   "cell_type": "code",
   "execution_count": null,
   "id": "38050dd9",
   "metadata": {
    "ExecuteTime": {
     "end_time": "2021-11-29T23:59:42.739016Z",
     "start_time": "2021-11-29T23:59:40.585Z"
    }
   },
   "outputs": [],
   "source": [
    "max_eigenvals = 10\n",
    "\n",
    "# Build plot\n",
    "fig, ax = plt.subplots(figsize=(7,7))\n",
    "\n",
    "# Some styles only make sense if the number of points to plot\n",
    "# are below certain thresholds...\n",
    "marker = \"o\" if len(eigenvalues) < 50 else \".\"\n",
    "ax.scatter(\n",
    "    np.arange(0,(len(eigenvalues)))[0:max_eigenvals], \n",
    "    eigenvalues[0:max_eigenvals],\n",
    "    marker=marker, \n",
    "    s = 70, \n",
    "    color=\"grey\", ec=\"k\", alpha=1, \n",
    "    label = 'Eigenvalue'\n",
    ")\n",
    "ax.plot(eigenvalues[0:max_eigenvals], color = 'dodgerblue', linewidth = 1)\n",
    "\n",
    "# Plot Eigenvalues\n",
    "\n",
    "for i in range(0,len(eigenvalues)):\n",
    "    val = round(eigenvalues[i],4)\n",
    "    text_loc_y = val+0.1\n",
    "    text_loc_x = i-0.25\n",
    "    ax.text(text_loc_x, text_loc_y, val, fontsize = 14)\n",
    "\n",
    "ax.axhline(y=1, color = 'dodgerblue', linestyle = '--', label='Kaiser Rule')\n",
    "ax.set_ylim(-0.5, np.max(eigenvalues)*1.15)\n",
    "ax.set_xlim(-0.5, len(eigenvalues)-0.5)\n",
    "\n",
    "ax.set_title('Scree Plot:\\nEigenvalues Per Principal Component\\n')\n",
    "ax.set_ylabel('Eigenvalues\\n')\n",
    "ax.set_xlabel('\\nEach Principal Component (PC)')\n",
    "\n",
    "ax.set_xticks(np.arange(0, len(eigenvalues))[0:max_eigenvals])\n",
    "ax.set_xticklabels([f'PC {val}' for val in np.arange(1,len(eigenvalues)+1)][0:max_eigenvals])\n",
    "ax.legend()\n",
    "\n"
   ]
  },
  {
   "cell_type": "code",
   "execution_count": null,
   "id": "d0769470",
   "metadata": {},
   "outputs": [],
   "source": []
  }
 ],
 "metadata": {
  "kernelspec": {
   "display_name": "Python 3",
   "language": "python",
   "name": "python3"
  },
  "language_info": {
   "codemirror_mode": {
    "name": "ipython",
    "version": 3
   },
   "file_extension": ".py",
   "mimetype": "text/x-python",
   "name": "python",
   "nbconvert_exporter": "python",
   "pygments_lexer": "ipython3",
   "version": "3.8.8"
  },
  "toc": {
   "base_numbering": 1,
   "nav_menu": {},
   "number_sections": true,
   "sideBar": true,
   "skip_h1_title": false,
   "title_cell": "Table of Contents",
   "title_sidebar": "Contents",
   "toc_cell": false,
   "toc_position": {
    "height": "calc(100% - 180px)",
    "left": "10px",
    "top": "150px",
    "width": "384px"
   },
   "toc_section_display": true,
   "toc_window_display": true
  },
  "varInspector": {
   "cols": {
    "lenName": 16,
    "lenType": 16,
    "lenVar": 40
   },
   "kernels_config": {
    "python": {
     "delete_cmd_postfix": "",
     "delete_cmd_prefix": "del ",
     "library": "var_list.py",
     "varRefreshCmd": "print(var_dic_list())"
    },
    "r": {
     "delete_cmd_postfix": ") ",
     "delete_cmd_prefix": "rm(",
     "library": "var_list.r",
     "varRefreshCmd": "cat(var_dic_list()) "
    }
   },
   "types_to_exclude": [
    "module",
    "function",
    "builtin_function_or_method",
    "instance",
    "_Feature"
   ],
   "window_display": false
  }
 },
 "nbformat": 4,
 "nbformat_minor": 5
}
