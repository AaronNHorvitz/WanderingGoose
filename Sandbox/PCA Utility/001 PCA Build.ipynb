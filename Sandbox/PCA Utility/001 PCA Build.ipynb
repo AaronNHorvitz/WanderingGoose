{
 "cells": [
  {
   "cell_type": "markdown",
   "id": "109a77c3",
   "metadata": {},
   "source": [
    "    -make max components function\n",
    "    -create the 3D bivariate plot\n",
    "    -add an option for categorical color coding\n",
    "    -functionalize all the plots for single use later\n",
    "    -put the plots into one display \n",
    "    -add functionality to the plots to select various eigenvectos to display"
   ]
  },
  {
   "cell_type": "code",
   "execution_count": 1,
   "id": "d8ba69a7",
   "metadata": {
    "ExecuteTime": {
     "end_time": "2021-12-02T22:03:29.504628Z",
     "start_time": "2021-12-02T22:03:28.167005Z"
    }
   },
   "outputs": [],
   "source": [
    "import pandas as pd\n",
    "import numpy as np\n",
    "\n",
    "import matplotlib.pyplot as plt\n",
    "import matplotlib as mpl\n",
    "from sklearn.preprocessing import StandardScaler\n",
    "from sklearn.decomposition import PCA"
   ]
  },
  {
   "cell_type": "markdown",
   "id": "a760b47e",
   "metadata": {},
   "source": [
    "# Load Data"
   ]
  },
  {
   "cell_type": "code",
   "execution_count": 2,
   "id": "784aec58",
   "metadata": {
    "ExecuteTime": {
     "end_time": "2021-12-02T22:03:29.551533Z",
     "start_time": "2021-12-02T22:03:29.506066Z"
    }
   },
   "outputs": [],
   "source": [
    "# Load IRIS Data into a dataframe\n",
    "from sklearn import datasets\n",
    "iris = datasets.load_iris()    \n",
    "df = pd.DataFrame(data= np.c_[iris['data'], iris['target']],columns= iris['feature_names'] + ['target'])\n",
    "\n",
    "# Target and Data\n",
    "y = df['target']\n",
    "X = df[[col for col in df.columns if col not in ['target']]]"
   ]
  },
  {
   "cell_type": "code",
   "execution_count": 3,
   "id": "5b47b7a9",
   "metadata": {
    "ExecuteTime": {
     "end_time": "2021-12-02T22:03:29.567625Z",
     "start_time": "2021-12-02T22:03:29.552685Z"
    }
   },
   "outputs": [],
   "source": [
    "# Settings\n",
    "# TODO: Need to make a max components funciton...\n",
    "n_components = None\n",
    "data = X.copy()"
   ]
  },
  {
   "cell_type": "markdown",
   "id": "2801f77b",
   "metadata": {},
   "source": [
    "# PCA and Features"
   ]
  },
  {
   "cell_type": "code",
   "execution_count": 4,
   "id": "8b20709c",
   "metadata": {
    "ExecuteTime": {
     "end_time": "2021-12-02T22:03:29.583352Z",
     "start_time": "2021-12-02T22:03:29.569258Z"
    }
   },
   "outputs": [],
   "source": [
    "def calculate_principal_components(data):\n",
    "    \n",
    "    pca = PCA()\n",
    "    p_components = pca.fit_transform(data)\n",
    "    p_components = pd.DataFrame(p_components)\n",
    "\n",
    "    # Add the principal component columns\n",
    "    p_components.columns = p_components.columns+1\n",
    "    p_components = p_components.add_prefix('Principal Component ')\n",
    "    \n",
    "    return p_components"
   ]
  },
  {
   "cell_type": "code",
   "execution_count": 5,
   "id": "85dce4f7",
   "metadata": {
    "ExecuteTime": {
     "end_time": "2021-12-02T22:03:29.598340Z",
     "start_time": "2021-12-02T22:03:29.585895Z"
    }
   },
   "outputs": [],
   "source": [
    "def create_eigenvalues_matrix(data, styled=True, threshold=0.05):\n",
    "\n",
    "    pca = PCA()\n",
    "    p_components = pca.fit_transform(data)\n",
    "    \n",
    "    # Explained Variance (Eigenvalues)\n",
    "    eigenvalues = pca.explained_variance_\n",
    "\n",
    "    # Explained Variance Ratios\n",
    "    ev_ratios = pca.explained_variance_ratio_\n",
    "\n",
    "    # Eigenvalues Matrix\n",
    "    ev_matrix = pd.DataFrame({'eigenvalues':eigenvalues, 'ev_ratios':ev_ratios, 'cum_percent':ev_ratios.cumsum()*100})\n",
    "    \n",
    "    if styled==False:\n",
    "        return ev_matrix\n",
    "\n",
    "    def color_eigenvalues(val):\n",
    "\n",
    "        if abs(val) >= 1:\n",
    "            color = 'dodgerblue'\n",
    "            fontweight = 'bold'\n",
    "     \n",
    "        else:\n",
    "            color = \"black\"\n",
    "            fontweight = 'medium'\n",
    "        return \"color: %s\" % color\n",
    "\n",
    "    def color_cum_percent(val):\n",
    "        \n",
    "        # If the threshold yields greater than 99% of all values\n",
    "        if 100*(1-threshold) >= 99:\n",
    "            \n",
    "            if abs(val) <= 100*(1-threshold):\n",
    "                color = \"dodgerblue\"\n",
    "                fontweight = 'bold'\n",
    "            else:\n",
    "                color = \"black\"\n",
    "                fontweight = 'medium'\n",
    "            \n",
    "        else:     \n",
    "\n",
    "            if abs(val) <= 100*(1-threshold):\n",
    "                color = 'dodgerblue'\n",
    "                fontweight = 'bold'\n",
    "            elif (abs(val) >= 100*(1-threshold) and abs(val) < 99):\n",
    "                color='cadetblue'\n",
    "                fontweight = 'bold'       \n",
    "            else:\n",
    "                color = \"black\"\n",
    "                fontweight = 'medium'\n",
    "            return \"color: %s\" % color\n",
    "    \n",
    "    styled_ev_matrix = ev_matrix.style.set_properties(**{\"text-align\": \"center\"})\n",
    "    styled_ev_matrix = styled_ev_matrix.applymap(color_eigenvalues, subset=['eigenvalues'])\n",
    "    styled_ev_matrix = styled_ev_matrix.applymap(color_cum_percent, subset=['cum_percent'])\n",
    "    styled_ev_matrix = styled_ev_matrix.set_caption(\"Eigenvalues Matrix\").set_table_styles(\n",
    "        [\n",
    "            {\n",
    "                \"selector\": \"caption\",\n",
    "                \"props\": [\n",
    "                    (\"color\", \"dodgerblue\"),\n",
    "                    (\"font-size\", \"18px\"),\n",
    "                    (\"font-weight:\", \"bold\"),\n",
    "                ],\n",
    "            }\n",
    "        ]\n",
    "    )\n",
    "\n",
    "    return styled_ev_matrix        "
   ]
  },
  {
   "cell_type": "code",
   "execution_count": 6,
   "id": "b8a933ce",
   "metadata": {
    "ExecuteTime": {
     "end_time": "2021-12-02T22:03:29.613820Z",
     "start_time": "2021-12-02T22:03:29.600104Z"
    }
   },
   "outputs": [],
   "source": [
    "def create_covariance_matrix(data, styled=True):\n",
    "\n",
    "    pca = PCA()\n",
    "    pca.fit_transform(data)\n",
    "    covariance_matrix = pd.DataFrame(pca.get_covariance())\n",
    "    covariance_matrix.columns = data.columns\n",
    "    covariance_matrix.index = data.columns   \n",
    "    \n",
    "    if styled==False:\n",
    "        return covariance_matrix \n",
    "    \n",
    "    styled_covariance_matrix = covariance_matrix.style.set_properties(**{\"text-align\": \"center\"})\n",
    "    styled_covariance_matrix = styled_covariance_matrix.set_caption(\"Covariance Matrix\").set_table_styles(\n",
    "        [\n",
    "            {\n",
    "                \"selector\": \"caption\",\n",
    "                \"props\": [\n",
    "                    (\"color\", \"dodgerblue\"),\n",
    "                    (\"font-size\", \"18px\"),\n",
    "                    (\"font-weight:\", \"bold\"),\n",
    "                ],\n",
    "            }\n",
    "        ]\n",
    "    )\n",
    "\n",
    "    return styled_covariance_matrix    "
   ]
  },
  {
   "cell_type": "code",
   "execution_count": 7,
   "id": "072ec8e9",
   "metadata": {
    "ExecuteTime": {
     "end_time": "2021-12-02T22:03:29.628872Z",
     "start_time": "2021-12-02T22:03:29.615340Z"
    }
   },
   "outputs": [],
   "source": [
    "def create_eigenvectors_matrix(data, styled=True):\n",
    "    \n",
    "    pca = PCA()\n",
    "    pca.fit_transform(data)\n",
    "    p_components = pca.fit_transform(data)\n",
    "    p_components = pd.DataFrame(p_components)    \n",
    "    p_components.columns = p_components.columns+1\n",
    "    p_components = p_components.add_prefix('Principal Component ')\n",
    "    \n",
    "    eigenvectors = pd.DataFrame(pca.components_)\n",
    "    eigenvectors.columns = p_components.columns\n",
    "    eigenvectors.index = data.columns\n",
    "    \n",
    "    if styled==False:\n",
    "        return eigenvectors\n",
    "\n",
    "    def color_eigenvectors(val):\n",
    "\n",
    "        if abs(val) >= 0.5:\n",
    "            color = \"dodgerblue\"\n",
    "            fontweight = 'bold'\n",
    "        elif (abs(val) >= 0.25) and (abs(val) < 0.5):\n",
    "            color=\"cadetblue\"\n",
    "            fontweight = 'bold'\n",
    "        else:\n",
    "            color = \"black\"\n",
    "            fontweight = 'medium'\n",
    "        return \"color: %s\" % color\n",
    "\n",
    "    styled_eigenvectors = eigenvectors.style.set_properties(**{\"text-align\": \"center\"})\n",
    "\n",
    "    for pc in range(1,len(eigenvectors.columns)+1):\n",
    "        styled_eigenvectors = styled_eigenvectors.applymap(color_eigenvectors, subset=[f'Principal Component {pc}'])\n",
    "    styled_eigenvectors = styled_eigenvectors.set_caption(\"Eigenvectors\").set_table_styles(\n",
    "        [\n",
    "            {\n",
    "                \"selector\": \"caption\",\n",
    "                \"props\": [\n",
    "                    (\"color\", \"dodgerblue\"),\n",
    "                    (\"font-size\", \"18px\"),\n",
    "                    (\"font-weight:\", \"bold\"),\n",
    "                ],\n",
    "            }\n",
    "        ]\n",
    "    )\n",
    "\n",
    "    return styled_eigenvectors"
   ]
  },
  {
   "cell_type": "code",
   "execution_count": 18,
   "id": "8c723884",
   "metadata": {
    "ExecuteTime": {
     "end_time": "2021-12-02T22:08:34.478321Z",
     "start_time": "2021-12-02T22:08:34.467233Z"
    }
   },
   "outputs": [],
   "source": [
    "def create_pca_score_plot(data, comp_a=1, comp_b=2, figsize = (7,7)):\n",
    "    \n",
    "    # Get principal components and eigenvectors\n",
    "    p_components = calculate_principal_components(data)\n",
    "    ev_matrix = create_eigenvalues_matrix(data, styled=False)\n",
    "\n",
    "    # Build plot\n",
    "    fig, ax = plt.subplots(figsize=figsize)\n",
    "\n",
    "    x_val = p_components[f\"Principal Component {comp_a}\"]\n",
    "    y_val = p_components[f\"Principal Component {comp_b}\"]\n",
    "\n",
    "    # Some styles only make sense if the number of points to plot\n",
    "    # are below certain thresholds...\n",
    "    marker = \"o\" if len(p_components ) < 50 else \".\"\n",
    "    ax.scatter(x_val, y_val, marker=marker, s = 70, color=\"grey\", ec=\"k\", alpha=0.5, label = 'Data')\n",
    "\n",
    "    # X and Y axis\n",
    "    ax.axhline(y=0, linestyle = '-', color = 'dodgerblue', linewidth = 0.5)\n",
    "    ax.axvline(x=0, linestyle = '-', color = 'dodgerblue', linewidth = 0.5)\n",
    "\n",
    "    # Max/ Min\n",
    "    x_limit = max(abs(x_val.min()), abs(x_val.max()))*1.20\n",
    "    ax.set_xlim(-x_limit, x_limit)\n",
    "    y_limit = max(abs(y_val.min()), abs(y_val.max()))*1.20\n",
    "    ax.set_ylim(-y_limit, y_limit)\n",
    "\n",
    "    # Labels and Title\n",
    "    ax.set_xlabel(f\"\\nComponent {comp_a}  ({(round(ev_matrix.iloc[comp_a-1]['ev_ratios'],3))*100}%)\")\n",
    "    ax.set_ylabel(f\"Component {comp_b}  ({(round(ev_matrix.iloc[comp_b-1]['ev_ratios'],3))*100}%)\\n\")\n",
    "    ax.set_title('Score Plot\\n')\n",
    "\n",
    "    return ax"
   ]
  },
  {
   "cell_type": "code",
   "execution_count": 17,
   "id": "a7466406",
   "metadata": {
    "ExecuteTime": {
     "end_time": "2021-12-02T22:08:26.256466Z",
     "start_time": "2021-12-02T22:08:26.172091Z"
    }
   },
   "outputs": [
    {
     "data": {
      "text/html": [
       "<style  type=\"text/css\" >\n",
       "    #T_cf4f1_ caption {\n",
       "          color: dodgerblue;\n",
       "          font-size: 18px;\n",
       "          font-weight:: bold;\n",
       "    }#T_cf4f1_row0_col0,#T_cf4f1_row0_col2{\n",
       "            text-align:  center;\n",
       "            color:  dodgerblue;\n",
       "        }#T_cf4f1_row0_col1,#T_cf4f1_row1_col1,#T_cf4f1_row2_col1,#T_cf4f1_row3_col1{\n",
       "            text-align:  center;\n",
       "        }#T_cf4f1_row1_col0,#T_cf4f1_row2_col0,#T_cf4f1_row2_col2,#T_cf4f1_row3_col0,#T_cf4f1_row3_col2{\n",
       "            text-align:  center;\n",
       "            color:  black;\n",
       "        }#T_cf4f1_row1_col2{\n",
       "            text-align:  center;\n",
       "            color:  cadetblue;\n",
       "        }</style><table id=\"T_cf4f1_\" ><caption>Eigenvalues Matrix</caption><thead>    <tr>        <th class=\"blank level0\" ></th>        <th class=\"col_heading level0 col0\" >eigenvalues</th>        <th class=\"col_heading level0 col1\" >ev_ratios</th>        <th class=\"col_heading level0 col2\" >cum_percent</th>    </tr></thead><tbody>\n",
       "                <tr>\n",
       "                        <th id=\"T_cf4f1_level0_row0\" class=\"row_heading level0 row0\" >0</th>\n",
       "                        <td id=\"T_cf4f1_row0_col0\" class=\"data row0 col0\" >4.228242</td>\n",
       "                        <td id=\"T_cf4f1_row0_col1\" class=\"data row0 col1\" >0.924619</td>\n",
       "                        <td id=\"T_cf4f1_row0_col2\" class=\"data row0 col2\" >92.461872</td>\n",
       "            </tr>\n",
       "            <tr>\n",
       "                        <th id=\"T_cf4f1_level0_row1\" class=\"row_heading level0 row1\" >1</th>\n",
       "                        <td id=\"T_cf4f1_row1_col0\" class=\"data row1 col0\" >0.242671</td>\n",
       "                        <td id=\"T_cf4f1_row1_col1\" class=\"data row1 col1\" >0.053066</td>\n",
       "                        <td id=\"T_cf4f1_row1_col2\" class=\"data row1 col2\" >97.768521</td>\n",
       "            </tr>\n",
       "            <tr>\n",
       "                        <th id=\"T_cf4f1_level0_row2\" class=\"row_heading level0 row2\" >2</th>\n",
       "                        <td id=\"T_cf4f1_row2_col0\" class=\"data row2 col0\" >0.078210</td>\n",
       "                        <td id=\"T_cf4f1_row2_col1\" class=\"data row2 col1\" >0.017103</td>\n",
       "                        <td id=\"T_cf4f1_row2_col2\" class=\"data row2 col2\" >99.478782</td>\n",
       "            </tr>\n",
       "            <tr>\n",
       "                        <th id=\"T_cf4f1_level0_row3\" class=\"row_heading level0 row3\" >3</th>\n",
       "                        <td id=\"T_cf4f1_row3_col0\" class=\"data row3 col0\" >0.023835</td>\n",
       "                        <td id=\"T_cf4f1_row3_col1\" class=\"data row3 col1\" >0.005212</td>\n",
       "                        <td id=\"T_cf4f1_row3_col2\" class=\"data row3 col2\" >100.000000</td>\n",
       "            </tr>\n",
       "    </tbody></table>"
      ],
      "text/plain": [
       "<pandas.io.formats.style.Styler at 0x1d9cd757e80>"
      ]
     },
     "metadata": {},
     "output_type": "display_data"
    },
    {
     "data": {
      "text/html": [
       "<style  type=\"text/css\" >\n",
       "    #T_d8a2a_ caption {\n",
       "          color: dodgerblue;\n",
       "          font-size: 18px;\n",
       "          font-weight:: bold;\n",
       "    }#T_d8a2a_row0_col0,#T_d8a2a_row0_col1,#T_d8a2a_row0_col2,#T_d8a2a_row0_col3,#T_d8a2a_row1_col0,#T_d8a2a_row1_col1,#T_d8a2a_row1_col2,#T_d8a2a_row1_col3,#T_d8a2a_row2_col0,#T_d8a2a_row2_col1,#T_d8a2a_row2_col2,#T_d8a2a_row2_col3,#T_d8a2a_row3_col0,#T_d8a2a_row3_col1,#T_d8a2a_row3_col2,#T_d8a2a_row3_col3{\n",
       "            text-align:  center;\n",
       "        }</style><table id=\"T_d8a2a_\" ><caption>Covariance Matrix</caption><thead>    <tr>        <th class=\"blank level0\" ></th>        <th class=\"col_heading level0 col0\" >sepal length (cm)</th>        <th class=\"col_heading level0 col1\" >sepal width (cm)</th>        <th class=\"col_heading level0 col2\" >petal length (cm)</th>        <th class=\"col_heading level0 col3\" >petal width (cm)</th>    </tr></thead><tbody>\n",
       "                <tr>\n",
       "                        <th id=\"T_d8a2a_level0_row0\" class=\"row_heading level0 row0\" >sepal length (cm)</th>\n",
       "                        <td id=\"T_d8a2a_row0_col0\" class=\"data row0 col0\" >0.685694</td>\n",
       "                        <td id=\"T_d8a2a_row0_col1\" class=\"data row0 col1\" >-0.042434</td>\n",
       "                        <td id=\"T_d8a2a_row0_col2\" class=\"data row0 col2\" >1.274315</td>\n",
       "                        <td id=\"T_d8a2a_row0_col3\" class=\"data row0 col3\" >0.516271</td>\n",
       "            </tr>\n",
       "            <tr>\n",
       "                        <th id=\"T_d8a2a_level0_row1\" class=\"row_heading level0 row1\" >sepal width (cm)</th>\n",
       "                        <td id=\"T_d8a2a_row1_col0\" class=\"data row1 col0\" >-0.042434</td>\n",
       "                        <td id=\"T_d8a2a_row1_col1\" class=\"data row1 col1\" >0.189979</td>\n",
       "                        <td id=\"T_d8a2a_row1_col2\" class=\"data row1 col2\" >-0.329656</td>\n",
       "                        <td id=\"T_d8a2a_row1_col3\" class=\"data row1 col3\" >-0.121639</td>\n",
       "            </tr>\n",
       "            <tr>\n",
       "                        <th id=\"T_d8a2a_level0_row2\" class=\"row_heading level0 row2\" >petal length (cm)</th>\n",
       "                        <td id=\"T_d8a2a_row2_col0\" class=\"data row2 col0\" >1.274315</td>\n",
       "                        <td id=\"T_d8a2a_row2_col1\" class=\"data row2 col1\" >-0.329656</td>\n",
       "                        <td id=\"T_d8a2a_row2_col2\" class=\"data row2 col2\" >3.116278</td>\n",
       "                        <td id=\"T_d8a2a_row2_col3\" class=\"data row2 col3\" >1.295609</td>\n",
       "            </tr>\n",
       "            <tr>\n",
       "                        <th id=\"T_d8a2a_level0_row3\" class=\"row_heading level0 row3\" >petal width (cm)</th>\n",
       "                        <td id=\"T_d8a2a_row3_col0\" class=\"data row3 col0\" >0.516271</td>\n",
       "                        <td id=\"T_d8a2a_row3_col1\" class=\"data row3 col1\" >-0.121639</td>\n",
       "                        <td id=\"T_d8a2a_row3_col2\" class=\"data row3 col2\" >1.295609</td>\n",
       "                        <td id=\"T_d8a2a_row3_col3\" class=\"data row3 col3\" >0.581006</td>\n",
       "            </tr>\n",
       "    </tbody></table>"
      ],
      "text/plain": [
       "<pandas.io.formats.style.Styler at 0x1d9cc4e2190>"
      ]
     },
     "metadata": {},
     "output_type": "display_data"
    },
    {
     "data": {
      "text/html": [
       "<style  type=\"text/css\" >\n",
       "    #T_2619b_ caption {\n",
       "          color: dodgerblue;\n",
       "          font-size: 18px;\n",
       "          font-weight:: bold;\n",
       "    }#T_2619b_row0_col0,#T_2619b_row0_col3,#T_2619b_row3_col0,#T_2619b_row3_col1,#T_2619b_row3_col2{\n",
       "            text-align:  center;\n",
       "            color:  cadetblue;\n",
       "        }#T_2619b_row0_col1,#T_2619b_row1_col2,#T_2619b_row1_col3,#T_2619b_row2_col2{\n",
       "            text-align:  center;\n",
       "            color:  black;\n",
       "        }#T_2619b_row0_col2,#T_2619b_row1_col0,#T_2619b_row1_col1,#T_2619b_row2_col0,#T_2619b_row2_col1,#T_2619b_row2_col3,#T_2619b_row3_col3{\n",
       "            text-align:  center;\n",
       "            color:  dodgerblue;\n",
       "        }</style><table id=\"T_2619b_\" ><caption>Eigenvectors</caption><thead>    <tr>        <th class=\"blank level0\" ></th>        <th class=\"col_heading level0 col0\" >Principal Component 1</th>        <th class=\"col_heading level0 col1\" >Principal Component 2</th>        <th class=\"col_heading level0 col2\" >Principal Component 3</th>        <th class=\"col_heading level0 col3\" >Principal Component 4</th>    </tr></thead><tbody>\n",
       "                <tr>\n",
       "                        <th id=\"T_2619b_level0_row0\" class=\"row_heading level0 row0\" >sepal length (cm)</th>\n",
       "                        <td id=\"T_2619b_row0_col0\" class=\"data row0 col0\" >0.361387</td>\n",
       "                        <td id=\"T_2619b_row0_col1\" class=\"data row0 col1\" >-0.084523</td>\n",
       "                        <td id=\"T_2619b_row0_col2\" class=\"data row0 col2\" >0.856671</td>\n",
       "                        <td id=\"T_2619b_row0_col3\" class=\"data row0 col3\" >0.358289</td>\n",
       "            </tr>\n",
       "            <tr>\n",
       "                        <th id=\"T_2619b_level0_row1\" class=\"row_heading level0 row1\" >sepal width (cm)</th>\n",
       "                        <td id=\"T_2619b_row1_col0\" class=\"data row1 col0\" >0.656589</td>\n",
       "                        <td id=\"T_2619b_row1_col1\" class=\"data row1 col1\" >0.730161</td>\n",
       "                        <td id=\"T_2619b_row1_col2\" class=\"data row1 col2\" >-0.173373</td>\n",
       "                        <td id=\"T_2619b_row1_col3\" class=\"data row1 col3\" >-0.075481</td>\n",
       "            </tr>\n",
       "            <tr>\n",
       "                        <th id=\"T_2619b_level0_row2\" class=\"row_heading level0 row2\" >petal length (cm)</th>\n",
       "                        <td id=\"T_2619b_row2_col0\" class=\"data row2 col0\" >-0.582030</td>\n",
       "                        <td id=\"T_2619b_row2_col1\" class=\"data row2 col1\" >0.597911</td>\n",
       "                        <td id=\"T_2619b_row2_col2\" class=\"data row2 col2\" >0.076236</td>\n",
       "                        <td id=\"T_2619b_row2_col3\" class=\"data row2 col3\" >0.545831</td>\n",
       "            </tr>\n",
       "            <tr>\n",
       "                        <th id=\"T_2619b_level0_row3\" class=\"row_heading level0 row3\" >petal width (cm)</th>\n",
       "                        <td id=\"T_2619b_row3_col0\" class=\"data row3 col0\" >-0.315487</td>\n",
       "                        <td id=\"T_2619b_row3_col1\" class=\"data row3 col1\" >0.319723</td>\n",
       "                        <td id=\"T_2619b_row3_col2\" class=\"data row3 col2\" >0.479839</td>\n",
       "                        <td id=\"T_2619b_row3_col3\" class=\"data row3 col3\" >-0.753657</td>\n",
       "            </tr>\n",
       "    </tbody></table>"
      ],
      "text/plain": [
       "<pandas.io.formats.style.Styler at 0x1d9cd749d60>"
      ]
     },
     "metadata": {},
     "output_type": "display_data"
    },
    {
     "ename": "TypeError",
     "evalue": "calculate_principal_components() got an unexpected keyword argument 'styled'",
     "output_type": "error",
     "traceback": [
      "\u001b[1;31m---------------------------------------------------------------------------\u001b[0m",
      "\u001b[1;31mTypeError\u001b[0m                                 Traceback (most recent call last)",
      "\u001b[1;32m<ipython-input-17-f4503d58ca71>\u001b[0m in \u001b[0;36m<module>\u001b[1;34m\u001b[0m\n\u001b[0;32m     10\u001b[0m \u001b[1;33m\u001b[0m\u001b[0m\n\u001b[0;32m     11\u001b[0m \u001b[1;31m# Score Plot\u001b[0m\u001b[1;33m\u001b[0m\u001b[1;33m\u001b[0m\u001b[1;33m\u001b[0m\u001b[0m\n\u001b[1;32m---> 12\u001b[1;33m \u001b[0mcreate_pca_score_plot\u001b[0m\u001b[1;33m(\u001b[0m\u001b[0mdata\u001b[0m\u001b[1;33m)\u001b[0m\u001b[1;33m\u001b[0m\u001b[1;33m\u001b[0m\u001b[0m\n\u001b[0m\u001b[0;32m     13\u001b[0m \u001b[0mplt\u001b[0m\u001b[1;33m.\u001b[0m\u001b[0mshow\u001b[0m\u001b[1;33m(\u001b[0m\u001b[1;33m)\u001b[0m\u001b[1;33m\u001b[0m\u001b[1;33m\u001b[0m\u001b[0m\n\u001b[0;32m     14\u001b[0m \u001b[0mplt\u001b[0m\u001b[1;33m.\u001b[0m\u001b[0mclose\u001b[0m\u001b[1;33m(\u001b[0m\u001b[1;33m)\u001b[0m\u001b[1;33m\u001b[0m\u001b[1;33m\u001b[0m\u001b[0m\n",
      "\u001b[1;32m<ipython-input-16-3d7a01292670>\u001b[0m in \u001b[0;36mcreate_pca_score_plot\u001b[1;34m(data, comp_a, comp_b, figsize)\u001b[0m\n\u001b[0;32m      2\u001b[0m \u001b[1;33m\u001b[0m\u001b[0m\n\u001b[0;32m      3\u001b[0m     \u001b[1;31m# Get principal components and eigenvectors\u001b[0m\u001b[1;33m\u001b[0m\u001b[1;33m\u001b[0m\u001b[1;33m\u001b[0m\u001b[0m\n\u001b[1;32m----> 4\u001b[1;33m     \u001b[0mp_components\u001b[0m \u001b[1;33m=\u001b[0m \u001b[0mcalculate_principal_components\u001b[0m\u001b[1;33m(\u001b[0m\u001b[0mdata\u001b[0m\u001b[1;33m,\u001b[0m \u001b[0mstyled\u001b[0m\u001b[1;33m=\u001b[0m\u001b[1;32mFalse\u001b[0m\u001b[1;33m)\u001b[0m\u001b[1;33m\u001b[0m\u001b[1;33m\u001b[0m\u001b[0m\n\u001b[0m\u001b[0;32m      5\u001b[0m     \u001b[0mev_matrix\u001b[0m \u001b[1;33m=\u001b[0m \u001b[0mcreate_eigenvalues_matrix\u001b[0m\u001b[1;33m(\u001b[0m\u001b[0mdata\u001b[0m\u001b[1;33m,\u001b[0m \u001b[0mstyled\u001b[0m\u001b[1;33m=\u001b[0m\u001b[1;32mFalse\u001b[0m\u001b[1;33m)\u001b[0m\u001b[1;33m\u001b[0m\u001b[1;33m\u001b[0m\u001b[0m\n\u001b[0;32m      6\u001b[0m \u001b[1;33m\u001b[0m\u001b[0m\n",
      "\u001b[1;31mTypeError\u001b[0m: calculate_principal_components() got an unexpected keyword argument 'styled'"
     ]
    }
   ],
   "source": [
    "# Eigenvalues Matrix\n",
    "ev_matrix = create_eigenvalues_matrix(data)\n",
    "display(ev_matrix)\n",
    "\n",
    "# Covariance Matrix\n",
    "display(create_covariance_matrix(data))\n",
    "\n",
    "# Egenvectors\n",
    "display(create_eigenvectors_matrix(data))\n",
    "\n",
    "# Score Plot\n",
    "create_pca_score_plot(data)\n",
    "plt.show()\n",
    "plt.close()\n",
    "\n",
    "# Dislpay Principal Component Values\n",
    "p_components = calculate_principal_components(data)\n",
    "output_data = pd.concat([data,p_components], axis = 1)\n",
    "print(\"\\nOriginal Data With Principal Components Added\")\n",
    "display(output_data)"
   ]
  },
  {
   "cell_type": "markdown",
   "id": "8b5cfb79",
   "metadata": {},
   "source": [
    "# Score Plot"
   ]
  },
  {
   "cell_type": "code",
   "execution_count": 13,
   "id": "5aee0476",
   "metadata": {
    "ExecuteTime": {
     "end_time": "2021-12-02T22:03:30.516616Z",
     "start_time": "2021-12-02T22:03:30.296288Z"
    }
   },
   "outputs": [
    {
     "data": {
      "image/png": "[encoded data removed]",
      "text/plain": [
       "<Figure size 504x504 with 1 Axes>"
      ]
     },
     "metadata": {
      "needs_background": "light"
     },
     "output_type": "display_data"
    }
   ],
   "source": [
    "comp_a = 1\n",
    "comp_b = 2\n",
    "\n",
    "# Get principal components and eigenvectors\n",
    "p_components = calculate_principal_components(data)\n",
    "ev_matrix = create_eigenvalues_matrix(data, styled=False)\n",
    "\n",
    "# Build plot\n",
    "fig, ax = plt.subplots(figsize=(7,7))\n",
    "\n",
    "x_val = p_components[f\"Principal Component {comp_a}\"]\n",
    "y_val = p_components[f\"Principal Component {comp_b}\"]\n",
    "\n",
    "# Some styles only make sense if the number of points to plot\n",
    "# are below certain thresholds...\n",
    "marker = \"o\" if len(p_components ) < 50 else \".\"\n",
    "ax.scatter(x_val, y_val, marker=marker, s = 70, color=\"grey\", ec=\"k\", alpha=0.5, label = 'Data')\n",
    "\n",
    "# X and Y axis\n",
    "ax.axhline(y=0, linestyle = '-', color = 'dodgerblue', linewidth = 0.5)\n",
    "ax.axvline(x=0, linestyle = '-', color = 'dodgerblue', linewidth = 0.5)\n",
    "\n",
    "# Max/ Min\n",
    "x_limit = max(abs(x_val.min()), abs(x_val.max()))*1.20\n",
    "ax.set_xlim(-x_limit, x_limit)\n",
    "y_limit = max(abs(y_val.min()), abs(y_val.max()))*1.20\n",
    "ax.set_ylim(-y_limit, y_limit)\n",
    "\n",
    "# Labels and Title\n",
    "ax.set_xlabel(f\"\\nComponent {comp_a}  ({(round(ev_matrix.iloc[comp_a-1]['ev_ratios'],3))*100}%)\")\n",
    "ax.set_ylabel(f\"Component {comp_b}  ({(round(ev_matrix.iloc[comp_b-1]['ev_ratios'],3))*100}%)\\n\")\n",
    "ax.set_title('Score Plot\\n')\n",
    "plt.show()"
   ]
  },
  {
   "cell_type": "markdown",
   "id": "8c4bd3eb",
   "metadata": {},
   "source": [
    "# Loading Plot"
   ]
  },
  {
   "cell_type": "code",
   "execution_count": 19,
   "id": "65156041",
   "metadata": {
    "ExecuteTime": {
     "end_time": "2021-12-02T22:09:01.184217Z",
     "start_time": "2021-12-02T22:09:00.939761Z"
    }
   },
   "outputs": [
    {
     "ename": "AttributeError",
     "evalue": "'Styler' object has no attribute 'iloc'",
     "output_type": "error",
     "traceback": [
      "\u001b[1;31m---------------------------------------------------------------------------\u001b[0m",
      "\u001b[1;31mAttributeError\u001b[0m                            Traceback (most recent call last)",
      "\u001b[1;32m<ipython-input-19-5e7ec4bb7f45>\u001b[0m in \u001b[0;36m<module>\u001b[1;34m\u001b[0m\n\u001b[0;32m     44\u001b[0m \u001b[1;33m\u001b[0m\u001b[0m\n\u001b[0;32m     45\u001b[0m \u001b[1;31m# Labels and Title\u001b[0m\u001b[1;33m\u001b[0m\u001b[1;33m\u001b[0m\u001b[1;33m\u001b[0m\u001b[0m\n\u001b[1;32m---> 46\u001b[1;33m \u001b[0max\u001b[0m\u001b[1;33m.\u001b[0m\u001b[0mset_ylabel\u001b[0m\u001b[1;33m(\u001b[0m\u001b[1;34mf\"Component {B}  ({(round(ev_matrix.iloc[B-1]['ev_ratios'],3))*100}%)\\n\"\u001b[0m\u001b[1;33m)\u001b[0m\u001b[1;33m\u001b[0m\u001b[1;33m\u001b[0m\u001b[0m\n\u001b[0m\u001b[0;32m     47\u001b[0m \u001b[0max\u001b[0m\u001b[1;33m.\u001b[0m\u001b[0mset_xlabel\u001b[0m\u001b[1;33m(\u001b[0m\u001b[1;34mf\"\\nComponent {A}  ({(round(ev_matrix.iloc[A-1]['ev_ratios'],3))*100}%)\"\u001b[0m\u001b[1;33m)\u001b[0m\u001b[1;33m\u001b[0m\u001b[1;33m\u001b[0m\u001b[0m\n\u001b[0;32m     48\u001b[0m \u001b[0max\u001b[0m\u001b[1;33m.\u001b[0m\u001b[0mset_title\u001b[0m\u001b[1;33m(\u001b[0m\u001b[1;34m'Loading Plot\\n'\u001b[0m\u001b[1;33m)\u001b[0m\u001b[1;33m\u001b[0m\u001b[1;33m\u001b[0m\u001b[0m\n",
      "\u001b[1;31mAttributeError\u001b[0m: 'Styler' object has no attribute 'iloc'"
     ]
    },
    {
     "data": {
      "image/png": "[encoded data removed]",
      "text/plain": [
       "<Figure size 504x504 with 1 Axes>"
      ]
     },
     "metadata": {
      "needs_background": "light"
     },
     "output_type": "display_data"
    }
   ],
   "source": [
    "eigenvectors = create_eigenvectors_matrix(data, styled=False)\n",
    "\n",
    "# Build plot\n",
    "fig, ax = plt.subplots(figsize=(7,7))\n",
    "\n",
    "eigen_x_val = eigenvectors[f\"Principal Component {A}\"]\n",
    "eigen_y_val = eigenvectors[f\"Principal Component {B}\"]\n",
    "\n",
    "# Add circle\n",
    "circ = plt.Circle((0, 0), 1, color='dodgerblue', fill=False)\n",
    "ax.add_patch(circ)\n",
    "\n",
    "# X and Y axis\n",
    "ax.axhline(y=0, linestyle = '--', color = 'dodgerblue', linewidth = 0.5)\n",
    "ax.axvline(x=0, linestyle = '--', color = 'dodgerblue', linewidth = 0.5)\n",
    "\n",
    "# Draw arrows and annotate\n",
    "for i, row in eigenvectors.iterrows():\n",
    "    \n",
    "    # plot arrow\n",
    "    ax.arrow(\n",
    "        0, 0, \n",
    "        row[f\"Principal Component {A}\"], row[f\"Principal Component {B}\"], \n",
    "        color = 'dodgerblue', \n",
    "        length_includes_head = True,\n",
    "        head_width = 0.05,\n",
    "        shape = 'right',\n",
    "        linewidth = 1, \n",
    "    )\n",
    "    \n",
    "    if row[f\"Principal Component {B}\"]<=0: vert_adj = -0.075\n",
    "    else: vert_adj = 0.05\n",
    "        \n",
    "    ax.text(\n",
    "        row[f\"Principal Component {A}\"]-0.2, row[f\"Principal Component {B}\"]+vert_adj,\n",
    "        i\n",
    "    )\n",
    "# Scatterplot    \n",
    "ax.scatter(eigen_x_val, eigen_y_val, marker=\"o\", s = 70, color=\"grey\", ec=\"k\", alpha=1, label = 'Data')\n",
    "\n",
    "# Max/ Min\n",
    "ax.set_xlim(-1.20, 1.20)\n",
    "ax.set_ylim(-1.20, 1.20)\n",
    "\n",
    "# Labels and Title\n",
    "ax.set_ylabel(f\"Component {B}  ({(round(ev_matrix.iloc[B-1]['ev_ratios'],3))*100}%)\\n\")\n",
    "ax.set_xlabel(f\"\\nComponent {A}  ({(round(ev_matrix.iloc[A-1]['ev_ratios'],3))*100}%)\")\n",
    "ax.set_title('Loading Plot\\n')\n",
    "plt.show()"
   ]
  },
  {
   "cell_type": "code",
   "execution_count": null,
   "id": "8b6494b2",
   "metadata": {
    "ExecuteTime": {
     "end_time": "2021-12-02T22:03:31.172034Z",
     "start_time": "2021-12-02T22:03:28.188Z"
    }
   },
   "outputs": [],
   "source": [
    "ev_matrix"
   ]
  },
  {
   "cell_type": "markdown",
   "id": "c0fc9c77",
   "metadata": {},
   "source": [
    "# Eigenvalue Pareto Plot"
   ]
  },
  {
   "cell_type": "code",
   "execution_count": null,
   "id": "c23860fd",
   "metadata": {
    "ExecuteTime": {
     "end_time": "2021-12-02T22:03:31.172999Z",
     "start_time": "2021-12-02T22:03:28.189Z"
    }
   },
   "outputs": [],
   "source": [
    "max_eigenvals = 10\n",
    "\n",
    "# Set the max number of eigenvalues to show on the Pareto plot\n",
    "num_eigenvals_to_show = len(ev_matrix)\n",
    "max_threshold = False\n",
    "\n",
    "if num_eigenvals_to_show > max_eigenvals:\n",
    "    max_threshold = True\n",
    "    num_eigenvals_to_show = max_eigenvals-1\n",
    "\n",
    "# Build plot\n",
    "fig, ax = plt.subplots(figsize=(7,7))\n",
    "\n",
    "# Get the most recent values for a bar plot up to the max eigenvalues\n",
    "eigenvalues = ev_matrix['eigenvalues'][0:(num_eigenvals_to_show + 1)].sort_values(ascending=False)  # only take the first 10 eigenvalues\n",
    "ev_ratios = ev_matrix['ev_ratios'][0:(num_eigenvals_to_show + 1)].sort_values(ascending=False)*100\n",
    "cum_percent = ev_matrix['cum_percent'][0:(num_eigenvals_to_show + 1)].sort_values(ascending=True)\n",
    "\n",
    "# Append missing values if there are less than '(num_eigenvals_to_show + 1)'\n",
    "if (num_eigenvals_to_show + 1)-len(eigenvalues) > 0:\n",
    "    \n",
    "    blank_vals = list(np.full((1,(num_eigenvals_to_show + 1)-len(eigenvalues)), fill_value = '')[0])\n",
    "    y_labels = round(ev_ratios,2).append(pd.Series(blank_vals))\n",
    "    y_labels =[f'{val}%' if '' != val else '' for val in y_labels]\n",
    "\n",
    "    zero_vals = list(np.full((1,(num_eigenvals_to_show + 1)-len(eigenvalues)), fill_value = 0)[0])\n",
    "    y_nums = ev_ratios.append(pd.Series(zero_vals))\n",
    "\n",
    "y_vals = np.arange((num_eigenvals_to_show + 1)-1,-1,-1)\n",
    "\n",
    "# Make the bar plot, cumulative percentage plots, etc. \n",
    "ax.barh(y_vals, y_nums[0:len(y_vals)], align='center', color = 'lightgrey', edgecolor = 'dodgerblue', alpha=1, label = 'Percent Per Principal Component')\n",
    "ax.plot(cum_percent, y_vals[:len(cum_percent)], linestyle = '--', label = 'Cumulative Percent')\n",
    "\n",
    "# X Axis Ticker Format\n",
    "fmt = '{x:,.0f}%'\n",
    "tick = mpl.ticker.StrMethodFormatter(fmt)\n",
    "ax.xaxis.set_major_formatter(tick)\n",
    "\n",
    "# X limit\n",
    "ax.set_xlim(0,100)\n",
    "\n",
    "# Title changes to alert user of missing eigenvalues if the max threshold is less than the number eigenvalues available. \n",
    "if max_threshold:  # missing eigenvalues because there are more than the max threshold\n",
    "    not_shown = len(ev_matrix)-max_eigenvals\n",
    "    ax.set_title(f'Explained Variance-Pareto Plot\\n{num_eigenvals_to_show+1} Eigenvalues\\n{not_shown} Eigenvalue(s) not displayed.\\n')\n",
    "    ax.set_ylim(-1,(num_eigenvals_to_show + 1))\n",
    "    \n",
    "else:\n",
    "    ax.set_title(f'Explained Variance-Plot\\n{num_eigenvals_to_show} Eigenvalues\\n') \n",
    "    ax.set_ylim(0,(num_eigenvals_to_show + 1))\n",
    "\n",
    "ax.set_xlabel('\\nPercent of Variation and Cummulative Percent\\nAcccounted For Each Principal Component (PC)')\n",
    "\n",
    "# Set Y values and tick lables\n",
    "ax.set_ylabel(f'Each Principal Component (PC)\\n')\n",
    "ax.set_yticks(y_vals)\n",
    "\n",
    "# Make sure to label the principal components corresponding to the Eigenvalues\n",
    "new_y_labels = []\n",
    "for count in range(1, len(y_labels)+1):\n",
    "    new_val = f'PC {count}'\n",
    "    \n",
    "    if count == len(y_labels):\n",
    "        new_y_labels.append('')\n",
    "    else:\n",
    "        new_y_labels.append(new_val)\n",
    "    ax.text(3,count-0.04, y_labels[len(y_labels)-count-1], fontsize = 14)\n",
    "    \n",
    "ax.set_yticklabels(new_y_labels[0:len(y_vals)])\n",
    "ax.grid(axis=\"x\")\n",
    "ax.legend(loc = 3)\n",
    "plt.show()"
   ]
  },
  {
   "cell_type": "markdown",
   "id": "84d66abd",
   "metadata": {},
   "source": [
    "# Scree Plot"
   ]
  },
  {
   "cell_type": "code",
   "execution_count": null,
   "id": "38050dd9",
   "metadata": {
    "ExecuteTime": {
     "end_time": "2021-12-02T22:03:31.172999Z",
     "start_time": "2021-12-02T22:03:28.190Z"
    }
   },
   "outputs": [],
   "source": [
    "max_eigenvals = 10\n",
    "\n",
    "# Build plot\n",
    "fig, ax = plt.subplots(figsize=(7,7))\n",
    "\n",
    "# Some styles only make sense if the number of points to plot\n",
    "# are below certain thresholds...\n",
    "marker = \"o\" if len(eigenvalues) < 50 else \".\"\n",
    "ax.scatter(\n",
    "    np.arange(0,(len(eigenvalues)))[0:max_eigenvals], \n",
    "    eigenvalues[0:max_eigenvals],\n",
    "    marker=marker, \n",
    "    s = 70, \n",
    "    color=\"grey\", ec=\"k\", alpha=1, \n",
    "    label = 'Eigenvalue'\n",
    ")\n",
    "ax.plot(eigenvalues[0:max_eigenvals], color = 'dodgerblue', linewidth = 1)\n",
    "\n",
    "# Plot Eigenvalues\n",
    "\n",
    "for i in range(0,len(eigenvalues)):\n",
    "    val = round(eigenvalues[i],4)\n",
    "    text_loc_y = val+0.1\n",
    "    text_loc_x = i-0.25\n",
    "    ax.text(text_loc_x, text_loc_y, val, fontsize = 14)\n",
    "\n",
    "ax.axhline(y=1, color = 'dodgerblue', linestyle = '--', label='Kaiser Rule')\n",
    "ax.set_ylim(-0.5, np.max(eigenvalues)*1.15)\n",
    "ax.set_xlim(-0.5, len(eigenvalues)-0.5)\n",
    "\n",
    "ax.set_title('Scree Plot:\\nEigenvalues Per Principal Component\\n')\n",
    "ax.set_ylabel('Eigenvalues\\n')\n",
    "ax.set_xlabel('\\nEach Principal Component (PC)')\n",
    "\n",
    "ax.set_xticks(np.arange(0, len(eigenvalues))[0:max_eigenvals])\n",
    "ax.set_xticklabels([f'PC {val}' for val in np.arange(1,len(eigenvalues)+1)][0:max_eigenvals])\n",
    "ax.legend()\n",
    "\n"
   ]
  },
  {
   "cell_type": "code",
   "execution_count": null,
   "id": "d0769470",
   "metadata": {},
   "outputs": [],
   "source": []
  }
 ],
 "metadata": {
  "kernelspec": {
   "display_name": "Python 3",
   "language": "python",
   "name": "python3"
  },
  "language_info": {
   "codemirror_mode": {
    "name": "ipython",
    "version": 3
   },
   "file_extension": ".py",
   "mimetype": "text/x-python",
   "name": "python",
   "nbconvert_exporter": "python",
   "pygments_lexer": "ipython3",
   "version": "3.8.8"
  },
  "toc": {
   "base_numbering": 1,
   "nav_menu": {},
   "number_sections": true,
   "sideBar": true,
   "skip_h1_title": false,
   "title_cell": "Table of Contents",
   "title_sidebar": "Contents",
   "toc_cell": false,
   "toc_position": {
    "height": "calc(100% - 180px)",
    "left": "10px",
    "top": "150px",
    "width": "384px"
   },
   "toc_section_display": true,
   "toc_window_display": true
  },
  "varInspector": {
   "cols": {
    "lenName": 16,
    "lenType": 16,
    "lenVar": 40
   },
   "kernels_config": {
    "python": {
     "delete_cmd_postfix": "",
     "delete_cmd_prefix": "del ",
     "library": "var_list.py",
     "varRefreshCmd": "print(var_dic_list())"
    },
    "r": {
     "delete_cmd_postfix": ") ",
     "delete_cmd_prefix": "rm(",
     "library": "var_list.r",
     "varRefreshCmd": "cat(var_dic_list()) "
    }
   },
   "types_to_exclude": [
    "module",
    "function",
    "builtin_function_or_method",
    "instance",
    "_Feature"
   ],
   "window_display": false
  }
 },
 "nbformat": 4,
 "nbformat_minor": 5
}
