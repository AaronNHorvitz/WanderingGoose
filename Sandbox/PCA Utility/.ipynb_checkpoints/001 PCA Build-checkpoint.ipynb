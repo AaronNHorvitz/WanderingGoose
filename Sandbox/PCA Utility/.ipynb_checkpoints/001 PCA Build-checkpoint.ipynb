{
 "cells": [
  {
   "cell_type": "code",
   "execution_count": 6,
   "id": "d8ba69a7",
   "metadata": {
    "ExecuteTime": {
     "end_time": "2021-11-15T23:12:32.662175Z",
     "start_time": "2021-11-15T23:12:32.644186Z"
    }
   },
   "outputs": [],
   "source": [
    "import pandas as pd\n",
    "import numpy as np\n",
    "\n",
    "import matplotlib.pyplot as plt\n",
    "from sklearn.preprocessing import StandardScaler\n",
    "from sklearn.decomposition import PCA"
   ]
  },
  {
   "cell_type": "code",
   "execution_count": 7,
   "id": "784aec58",
   "metadata": {
    "ExecuteTime": {
     "end_time": "2021-11-15T23:12:33.754801Z",
     "start_time": "2021-11-15T23:12:33.689943Z"
    }
   },
   "outputs": [],
   "source": [
    "# Load IRIS Data into a dataframe\n",
    "from sklearn import datasets\n",
    "iris = datasets.load_iris()    \n",
    "df = pd.DataFrame(data= np.c_[iris['data'], iris['target']],columns= iris['feature_names'] + ['target'])\n",
    "\n",
    "# Target and Data\n",
    "y = df['target']\n",
    "X = df[[col for col in df.columns if col not in ['target']]]"
   ]
  },
  {
   "cell_type": "code",
   "execution_count": 8,
   "id": "fbcbed22",
   "metadata": {
    "ExecuteTime": {
     "end_time": "2021-11-15T23:12:33.878774Z",
     "start_time": "2021-11-15T23:12:33.865785Z"
    }
   },
   "outputs": [],
   "source": [
    "# Settings\n",
    "n_components = None\n",
    "data = X.copy()"
   ]
  },
  {
   "cell_type": "code",
   "execution_count": 9,
   "id": "a7466406",
   "metadata": {
    "ExecuteTime": {
     "end_time": "2021-11-15T23:12:34.127930Z",
     "start_time": "2021-11-15T23:12:34.035850Z"
    }
   },
   "outputs": [
    {
     "name": "stdout",
     "output_type": "stream",
     "text": [
      "Original Data With Principal Components Added\n"
     ]
    },
    {
     "data": {
      "text/html": [
       "<div>\n",
       "<style scoped>\n",
       "    .dataframe tbody tr th:only-of-type {\n",
       "        vertical-align: middle;\n",
       "    }\n",
       "\n",
       "    .dataframe tbody tr th {\n",
       "        vertical-align: top;\n",
       "    }\n",
       "\n",
       "    .dataframe thead th {\n",
       "        text-align: right;\n",
       "    }\n",
       "</style>\n",
       "<table border=\"1\" class=\"dataframe\">\n",
       "  <thead>\n",
       "    <tr style=\"text-align: right;\">\n",
       "      <th></th>\n",
       "      <th>sepal length (cm)</th>\n",
       "      <th>sepal width (cm)</th>\n",
       "      <th>petal length (cm)</th>\n",
       "      <th>petal width (cm)</th>\n",
       "      <th>Principal Component 1</th>\n",
       "      <th>Principal Component 2</th>\n",
       "      <th>Principal Component 3</th>\n",
       "      <th>Principal Component 4</th>\n",
       "    </tr>\n",
       "  </thead>\n",
       "  <tbody>\n",
       "    <tr>\n",
       "      <th>0</th>\n",
       "      <td>5.1</td>\n",
       "      <td>3.5</td>\n",
       "      <td>1.4</td>\n",
       "      <td>0.2</td>\n",
       "      <td>-2.684126</td>\n",
       "      <td>0.319397</td>\n",
       "      <td>-0.027915</td>\n",
       "      <td>-0.002262</td>\n",
       "    </tr>\n",
       "    <tr>\n",
       "      <th>1</th>\n",
       "      <td>4.9</td>\n",
       "      <td>3.0</td>\n",
       "      <td>1.4</td>\n",
       "      <td>0.2</td>\n",
       "      <td>-2.714142</td>\n",
       "      <td>-0.177001</td>\n",
       "      <td>-0.210464</td>\n",
       "      <td>-0.099027</td>\n",
       "    </tr>\n",
       "    <tr>\n",
       "      <th>2</th>\n",
       "      <td>4.7</td>\n",
       "      <td>3.2</td>\n",
       "      <td>1.3</td>\n",
       "      <td>0.2</td>\n",
       "      <td>-2.888991</td>\n",
       "      <td>-0.144949</td>\n",
       "      <td>0.017900</td>\n",
       "      <td>-0.019968</td>\n",
       "    </tr>\n",
       "    <tr>\n",
       "      <th>3</th>\n",
       "      <td>4.6</td>\n",
       "      <td>3.1</td>\n",
       "      <td>1.5</td>\n",
       "      <td>0.2</td>\n",
       "      <td>-2.745343</td>\n",
       "      <td>-0.318299</td>\n",
       "      <td>0.031559</td>\n",
       "      <td>0.075576</td>\n",
       "    </tr>\n",
       "    <tr>\n",
       "      <th>4</th>\n",
       "      <td>5.0</td>\n",
       "      <td>3.6</td>\n",
       "      <td>1.4</td>\n",
       "      <td>0.2</td>\n",
       "      <td>-2.728717</td>\n",
       "      <td>0.326755</td>\n",
       "      <td>0.090079</td>\n",
       "      <td>0.061259</td>\n",
       "    </tr>\n",
       "    <tr>\n",
       "      <th>...</th>\n",
       "      <td>...</td>\n",
       "      <td>...</td>\n",
       "      <td>...</td>\n",
       "      <td>...</td>\n",
       "      <td>...</td>\n",
       "      <td>...</td>\n",
       "      <td>...</td>\n",
       "      <td>...</td>\n",
       "    </tr>\n",
       "    <tr>\n",
       "      <th>145</th>\n",
       "      <td>6.7</td>\n",
       "      <td>3.0</td>\n",
       "      <td>5.2</td>\n",
       "      <td>2.3</td>\n",
       "      <td>1.944110</td>\n",
       "      <td>0.187532</td>\n",
       "      <td>0.177825</td>\n",
       "      <td>-0.426196</td>\n",
       "    </tr>\n",
       "    <tr>\n",
       "      <th>146</th>\n",
       "      <td>6.3</td>\n",
       "      <td>2.5</td>\n",
       "      <td>5.0</td>\n",
       "      <td>1.9</td>\n",
       "      <td>1.527167</td>\n",
       "      <td>-0.375317</td>\n",
       "      <td>-0.121898</td>\n",
       "      <td>-0.254367</td>\n",
       "    </tr>\n",
       "    <tr>\n",
       "      <th>147</th>\n",
       "      <td>6.5</td>\n",
       "      <td>3.0</td>\n",
       "      <td>5.2</td>\n",
       "      <td>2.0</td>\n",
       "      <td>1.764346</td>\n",
       "      <td>0.078859</td>\n",
       "      <td>0.130482</td>\n",
       "      <td>-0.137001</td>\n",
       "    </tr>\n",
       "    <tr>\n",
       "      <th>148</th>\n",
       "      <td>6.2</td>\n",
       "      <td>3.4</td>\n",
       "      <td>5.4</td>\n",
       "      <td>2.3</td>\n",
       "      <td>1.900942</td>\n",
       "      <td>0.116628</td>\n",
       "      <td>0.723252</td>\n",
       "      <td>-0.044595</td>\n",
       "    </tr>\n",
       "    <tr>\n",
       "      <th>149</th>\n",
       "      <td>5.9</td>\n",
       "      <td>3.0</td>\n",
       "      <td>5.1</td>\n",
       "      <td>1.8</td>\n",
       "      <td>1.390189</td>\n",
       "      <td>-0.282661</td>\n",
       "      <td>0.362910</td>\n",
       "      <td>0.155039</td>\n",
       "    </tr>\n",
       "  </tbody>\n",
       "</table>\n",
       "<p>150 rows × 8 columns</p>\n",
       "</div>"
      ],
      "text/plain": [
       "     sepal length (cm)  sepal width (cm)  petal length (cm)  petal width (cm)  \\\n",
       "0                  5.1               3.5                1.4               0.2   \n",
       "1                  4.9               3.0                1.4               0.2   \n",
       "2                  4.7               3.2                1.3               0.2   \n",
       "3                  4.6               3.1                1.5               0.2   \n",
       "4                  5.0               3.6                1.4               0.2   \n",
       "..                 ...               ...                ...               ...   \n",
       "145                6.7               3.0                5.2               2.3   \n",
       "146                6.3               2.5                5.0               1.9   \n",
       "147                6.5               3.0                5.2               2.0   \n",
       "148                6.2               3.4                5.4               2.3   \n",
       "149                5.9               3.0                5.1               1.8   \n",
       "\n",
       "     Principal Component 1  Principal Component 2  Principal Component 3  \\\n",
       "0                -2.684126               0.319397              -0.027915   \n",
       "1                -2.714142              -0.177001              -0.210464   \n",
       "2                -2.888991              -0.144949               0.017900   \n",
       "3                -2.745343              -0.318299               0.031559   \n",
       "4                -2.728717               0.326755               0.090079   \n",
       "..                     ...                    ...                    ...   \n",
       "145               1.944110               0.187532               0.177825   \n",
       "146               1.527167              -0.375317              -0.121898   \n",
       "147               1.764346               0.078859               0.130482   \n",
       "148               1.900942               0.116628               0.723252   \n",
       "149               1.390189              -0.282661               0.362910   \n",
       "\n",
       "     Principal Component 4  \n",
       "0                -0.002262  \n",
       "1                -0.099027  \n",
       "2                -0.019968  \n",
       "3                 0.075576  \n",
       "4                 0.061259  \n",
       "..                     ...  \n",
       "145              -0.426196  \n",
       "146              -0.254367  \n",
       "147              -0.137001  \n",
       "148              -0.044595  \n",
       "149               0.155039  \n",
       "\n",
       "[150 rows x 8 columns]"
      ]
     },
     "metadata": {},
     "output_type": "display_data"
    },
    {
     "name": "stdout",
     "output_type": "stream",
     "text": [
      "Matrix of Eigenvalues for a Pareto Diagram\n"
     ]
    },
    {
     "data": {
      "text/html": [
       "<div>\n",
       "<style scoped>\n",
       "    .dataframe tbody tr th:only-of-type {\n",
       "        vertical-align: middle;\n",
       "    }\n",
       "\n",
       "    .dataframe tbody tr th {\n",
       "        vertical-align: top;\n",
       "    }\n",
       "\n",
       "    .dataframe thead th {\n",
       "        text-align: right;\n",
       "    }\n",
       "</style>\n",
       "<table border=\"1\" class=\"dataframe\">\n",
       "  <thead>\n",
       "    <tr style=\"text-align: right;\">\n",
       "      <th></th>\n",
       "      <th>eigenvalues</th>\n",
       "      <th>ev_ratios</th>\n",
       "      <th>cum_percent</th>\n",
       "    </tr>\n",
       "  </thead>\n",
       "  <tbody>\n",
       "    <tr>\n",
       "      <th>0</th>\n",
       "      <td>4.228242</td>\n",
       "      <td>0.924619</td>\n",
       "      <td>92.461872</td>\n",
       "    </tr>\n",
       "    <tr>\n",
       "      <th>1</th>\n",
       "      <td>0.242671</td>\n",
       "      <td>0.053066</td>\n",
       "      <td>97.768521</td>\n",
       "    </tr>\n",
       "    <tr>\n",
       "      <th>2</th>\n",
       "      <td>0.078210</td>\n",
       "      <td>0.017103</td>\n",
       "      <td>99.478782</td>\n",
       "    </tr>\n",
       "    <tr>\n",
       "      <th>3</th>\n",
       "      <td>0.023835</td>\n",
       "      <td>0.005212</td>\n",
       "      <td>100.000000</td>\n",
       "    </tr>\n",
       "  </tbody>\n",
       "</table>\n",
       "</div>"
      ],
      "text/plain": [
       "   eigenvalues  ev_ratios  cum_percent\n",
       "0     4.228242   0.924619    92.461872\n",
       "1     0.242671   0.053066    97.768521\n",
       "2     0.078210   0.017103    99.478782\n",
       "3     0.023835   0.005212   100.000000"
      ]
     },
     "metadata": {},
     "output_type": "display_data"
    },
    {
     "name": "stdout",
     "output_type": "stream",
     "text": [
      "Covariance Matrix\n"
     ]
    },
    {
     "data": {
      "text/html": [
       "<div>\n",
       "<style scoped>\n",
       "    .dataframe tbody tr th:only-of-type {\n",
       "        vertical-align: middle;\n",
       "    }\n",
       "\n",
       "    .dataframe tbody tr th {\n",
       "        vertical-align: top;\n",
       "    }\n",
       "\n",
       "    .dataframe thead th {\n",
       "        text-align: right;\n",
       "    }\n",
       "</style>\n",
       "<table border=\"1\" class=\"dataframe\">\n",
       "  <thead>\n",
       "    <tr style=\"text-align: right;\">\n",
       "      <th></th>\n",
       "      <th>sepal length (cm)</th>\n",
       "      <th>sepal width (cm)</th>\n",
       "      <th>petal length (cm)</th>\n",
       "      <th>petal width (cm)</th>\n",
       "    </tr>\n",
       "  </thead>\n",
       "  <tbody>\n",
       "    <tr>\n",
       "      <th>sepal length (cm)</th>\n",
       "      <td>0.685694</td>\n",
       "      <td>-0.042434</td>\n",
       "      <td>1.274315</td>\n",
       "      <td>0.516271</td>\n",
       "    </tr>\n",
       "    <tr>\n",
       "      <th>sepal width (cm)</th>\n",
       "      <td>-0.042434</td>\n",
       "      <td>0.189979</td>\n",
       "      <td>-0.329656</td>\n",
       "      <td>-0.121639</td>\n",
       "    </tr>\n",
       "    <tr>\n",
       "      <th>petal length (cm)</th>\n",
       "      <td>1.274315</td>\n",
       "      <td>-0.329656</td>\n",
       "      <td>3.116278</td>\n",
       "      <td>1.295609</td>\n",
       "    </tr>\n",
       "    <tr>\n",
       "      <th>petal width (cm)</th>\n",
       "      <td>0.516271</td>\n",
       "      <td>-0.121639</td>\n",
       "      <td>1.295609</td>\n",
       "      <td>0.581006</td>\n",
       "    </tr>\n",
       "  </tbody>\n",
       "</table>\n",
       "</div>"
      ],
      "text/plain": [
       "                   sepal length (cm)  sepal width (cm)  petal length (cm)  \\\n",
       "sepal length (cm)           0.685694         -0.042434           1.274315   \n",
       "sepal width (cm)           -0.042434          0.189979          -0.329656   \n",
       "petal length (cm)           1.274315         -0.329656           3.116278   \n",
       "petal width (cm)            0.516271         -0.121639           1.295609   \n",
       "\n",
       "                   petal width (cm)  \n",
       "sepal length (cm)          0.516271  \n",
       "sepal width (cm)          -0.121639  \n",
       "petal length (cm)          1.295609  \n",
       "petal width (cm)           0.581006  "
      ]
     },
     "metadata": {},
     "output_type": "display_data"
    },
    {
     "name": "stdout",
     "output_type": "stream",
     "text": [
      "Eigenvectors\n"
     ]
    },
    {
     "data": {
      "text/html": [
       "<div>\n",
       "<style scoped>\n",
       "    .dataframe tbody tr th:only-of-type {\n",
       "        vertical-align: middle;\n",
       "    }\n",
       "\n",
       "    .dataframe tbody tr th {\n",
       "        vertical-align: top;\n",
       "    }\n",
       "\n",
       "    .dataframe thead th {\n",
       "        text-align: right;\n",
       "    }\n",
       "</style>\n",
       "<table border=\"1\" class=\"dataframe\">\n",
       "  <thead>\n",
       "    <tr style=\"text-align: right;\">\n",
       "      <th></th>\n",
       "      <th>Principal Component 1</th>\n",
       "      <th>Principal Component 2</th>\n",
       "      <th>Principal Component 3</th>\n",
       "      <th>Principal Component 4</th>\n",
       "    </tr>\n",
       "  </thead>\n",
       "  <tbody>\n",
       "    <tr>\n",
       "      <th>sepal length (cm)</th>\n",
       "      <td>0.361387</td>\n",
       "      <td>-0.084523</td>\n",
       "      <td>0.856671</td>\n",
       "      <td>0.358289</td>\n",
       "    </tr>\n",
       "    <tr>\n",
       "      <th>sepal width (cm)</th>\n",
       "      <td>0.656589</td>\n",
       "      <td>0.730161</td>\n",
       "      <td>-0.173373</td>\n",
       "      <td>-0.075481</td>\n",
       "    </tr>\n",
       "    <tr>\n",
       "      <th>petal length (cm)</th>\n",
       "      <td>-0.582030</td>\n",
       "      <td>0.597911</td>\n",
       "      <td>0.076236</td>\n",
       "      <td>0.545831</td>\n",
       "    </tr>\n",
       "    <tr>\n",
       "      <th>petal width (cm)</th>\n",
       "      <td>-0.315487</td>\n",
       "      <td>0.319723</td>\n",
       "      <td>0.479839</td>\n",
       "      <td>-0.753657</td>\n",
       "    </tr>\n",
       "  </tbody>\n",
       "</table>\n",
       "</div>"
      ],
      "text/plain": [
       "                   Principal Component 1  Principal Component 2  \\\n",
       "sepal length (cm)               0.361387              -0.084523   \n",
       "sepal width (cm)                0.656589               0.730161   \n",
       "petal length (cm)              -0.582030               0.597911   \n",
       "petal width (cm)               -0.315487               0.319723   \n",
       "\n",
       "                   Principal Component 3  Principal Component 4  \n",
       "sepal length (cm)               0.856671               0.358289  \n",
       "sepal width (cm)               -0.173373              -0.075481  \n",
       "petal length (cm)               0.076236               0.545831  \n",
       "petal width (cm)                0.479839              -0.753657  "
      ]
     },
     "metadata": {},
     "output_type": "display_data"
    }
   ],
   "source": [
    "# Conduct PCS\n",
    "pca = PCA()\n",
    "p_components = pca.fit_transform(data)\n",
    "p_components = pd.DataFrame(p_components)\n",
    "\n",
    "# Add the principal component columns\n",
    "p_components.columns = p_components.columns+1\n",
    "p_components = p_components.add_prefix('Principal Component ')\n",
    "output_data = pd.concat([data,p_components], axis = 1)\n",
    "print(\"Original Data With Principal Components Added\")\n",
    "display(output_data)\n",
    "\n",
    "# Explained Variance (Eigenvalues)\n",
    "eigenvalues = pca.explained_variance_\n",
    "\n",
    "# Explained Variance Ratios\n",
    "ev_ratios = pca.explained_variance_ratio_\n",
    "\n",
    "# Eigenvalues Matrix\n",
    "ev_matrix = pd.DataFrame({'eigenvalues':eigenvalues, 'ev_ratios':ev_ratios, 'cum_percent':ev_ratios.cumsum()*100})\n",
    "print(\"Matrix of Eigenvalues for a Pareto Diagram\")\n",
    "display(ev_matrix)\n",
    "\n",
    "# Covariance Matrix\n",
    "covariance_matrix = pd.DataFrame(pca.get_covariance())\n",
    "covariance_matrix.columns = data.columns\n",
    "covariance_matrix.index = data.columns\n",
    "print(\"Covariance Matrix\")\n",
    "display(covariance_matrix)\n",
    "\n",
    "# Egenvectors\n",
    "eigenvectors = pd.DataFrame(pca.components_)\n",
    "eigenvectors.columns = p_components.columns\n",
    "eigenvectors.index = data.columns\n",
    "print(\"Eigenvectors\")\n",
    "display(eigenvectors) "
   ]
  },
  {
   "cell_type": "code",
   "execution_count": 137,
   "id": "d16d121b",
   "metadata": {
    "ExecuteTime": {
     "end_time": "2021-11-16T04:19:23.329483Z",
     "start_time": "2021-11-16T04:19:23.179886Z"
    }
   },
   "outputs": [
    {
     "data": {
      "text/plain": [
       "Text(0.5, 1.0, 'Score Plot\\n')"
      ]
     },
     "execution_count": 137,
     "metadata": {},
     "output_type": "execute_result"
    },
    {
     "data": {
      "image/png": "[encoded data removed]",
      "text/plain": [
       "<Figure size 504x504 with 1 Axes>"
      ]
     },
     "metadata": {
      "needs_background": "light"
     },
     "output_type": "display_data"
    }
   ],
   "source": [
    "A = 1\n",
    "B = 2\n",
    "\n",
    "# Build plot\n",
    "fig, ax = plt.subplots(figsize=(7,7))\n",
    "\n",
    "x_val = output_data[f\"Principal Component {A}\"]\n",
    "y_val = output_data[f\"Principal Component {B}\"]\n",
    "\n",
    "# Some styles only make sense if the number of points to plot\n",
    "# are below certain thresholds...\n",
    "marker = \"o\" if len(output_data ) < 50 else \".\"\n",
    "ax.scatter(x_val, y_val, marker=marker, s = 70, color=\"grey\", ec=\"k\", alpha=0.5, label = 'Data')\n",
    "\n",
    "# X and Y axis\n",
    "ax.axhline(y=0, linestyle = '-', color = 'dodgerblue', linewidth = 0.5)\n",
    "ax.axvline(x=0, linestyle = '-', color = 'dodgerblue', linewidth = 0.5)\n",
    "\n",
    "# Max/ Min\n",
    "x_limit = max(abs(x_val.min()), abs(x_val.max()))*1.20\n",
    "ax.set_xlim(-x_limit, x_limit)\n",
    "y_limit = max(abs(y_val.min()), abs(y_val.max()))*1.20\n",
    "ax.set_ylim(-y_limit, y_limit)\n",
    "\n",
    "# Labels and Title\n",
    "ax.set_ylabel(f\"Component {B}  ({(round(ev_matrix.iloc[B-1]['ev_ratios'],3))*100}%)\\n\")\n",
    "ax.set_xlabel(f\"\\nComponent {A}  ({(round(ev_matrix.iloc[A-1]['ev_ratios'],3))*100}%)\")\n",
    "ax.set_title('Score Plot\\n')"
   ]
  },
  {
   "cell_type": "code",
   "execution_count": 138,
   "id": "6e7fb79a",
   "metadata": {
    "ExecuteTime": {
     "end_time": "2021-11-16T04:19:33.728952Z",
     "start_time": "2021-11-16T04:19:33.556119Z"
    }
   },
   "outputs": [
    {
     "data": {
      "text/plain": [
       "Text(0.5, 1.0, 'Loading Plot\\n')"
      ]
     },
     "execution_count": 138,
     "metadata": {},
     "output_type": "execute_result"
    },
    {
     "data": {
      "image/png": "[encoded data removed]",
      "text/plain": [
       "<Figure size 504x504 with 1 Axes>"
      ]
     },
     "metadata": {
      "needs_background": "light"
     },
     "output_type": "display_data"
    }
   ],
   "source": [
    "# Build plot\n",
    "fig, ax = plt.subplots(figsize=(7,7))\n",
    "\n",
    "eigen_x_val = eigenvectors[f\"Principal Component {A}\"]\n",
    "eigen_y_val = eigenvectors[f\"Principal Component {B}\"]\n",
    "\n",
    "# Add circle\n",
    "circ = plt.Circle((0, 0), 1, color='dodgerblue', fill=False)\n",
    "ax.add_patch(circ)\n",
    "\n",
    "# X and Y axis\n",
    "ax.axhline(y=0, linestyle = '--', color = 'dodgerblue', linewidth = 0.5)\n",
    "ax.axvline(x=0, linestyle = '--', color = 'dodgerblue', linewidth = 0.5)\n",
    "\n",
    "# Draw arrows and annotate\n",
    "for i, row in eigenvectors.iterrows():\n",
    "    \n",
    "    # plot arrow\n",
    "    ax.arrow(\n",
    "        0, 0, \n",
    "        row[f\"Principal Component {A}\"], row[f\"Principal Component {B}\"], \n",
    "        color = 'dodgerblue', \n",
    "        length_includes_head = True,\n",
    "        head_width = 0.05,\n",
    "        shape = 'right',\n",
    "        linewidth = 1, \n",
    "    )\n",
    "    \n",
    "    if row[f\"Principal Component {B}\"]<=0: vert_adj = -0.075\n",
    "    else: vert_adj = 0.05\n",
    "        \n",
    "    ax.text(\n",
    "        row[f\"Principal Component {A}\"]-0.2, row[f\"Principal Component {B}\"]+vert_adj,\n",
    "        i\n",
    "    )\n",
    "# Scatterplot    \n",
    "ax.scatter(eigen_x_val, eigen_y_val, marker=\"o\", s = 70, color=\"grey\", ec=\"k\", alpha=1, label = 'Data')\n",
    "\n",
    "# Max/ Min\n",
    "ax.set_xlim(-1.20, 1.20)\n",
    "ax.set_ylim(-1.20, 1.20)\n",
    "\n",
    "# Labels and Title\n",
    "ax.set_ylabel(f\"Component {B}  ({(round(ev_matrix.iloc[B-1]['ev_ratios'],3))*100}%)\\n\")\n",
    "ax.set_xlabel(f\"\\nComponent {A}  ({(round(ev_matrix.iloc[A-1]['ev_ratios'],3))*100}%)\")\n",
    "ax.set_title('Loading Plot\\n')"
   ]
  },
  {
   "cell_type": "code",
   "execution_count": 124,
   "id": "df957607",
   "metadata": {
    "ExecuteTime": {
     "end_time": "2021-11-16T04:13:11.131440Z",
     "start_time": "2021-11-16T04:13:11.124403Z"
    }
   },
   "outputs": [
    {
     "data": {
      "text/html": [
       "<div>\n",
       "<style scoped>\n",
       "    .dataframe tbody tr th:only-of-type {\n",
       "        vertical-align: middle;\n",
       "    }\n",
       "\n",
       "    .dataframe tbody tr th {\n",
       "        vertical-align: top;\n",
       "    }\n",
       "\n",
       "    .dataframe thead th {\n",
       "        text-align: right;\n",
       "    }\n",
       "</style>\n",
       "<table border=\"1\" class=\"dataframe\">\n",
       "  <thead>\n",
       "    <tr style=\"text-align: right;\">\n",
       "      <th></th>\n",
       "      <th>eigenvalues</th>\n",
       "      <th>ev_ratios</th>\n",
       "      <th>cum_percent</th>\n",
       "    </tr>\n",
       "  </thead>\n",
       "  <tbody>\n",
       "    <tr>\n",
       "      <th>0</th>\n",
       "      <td>4.228242</td>\n",
       "      <td>0.924619</td>\n",
       "      <td>92.461872</td>\n",
       "    </tr>\n",
       "    <tr>\n",
       "      <th>1</th>\n",
       "      <td>0.242671</td>\n",
       "      <td>0.053066</td>\n",
       "      <td>97.768521</td>\n",
       "    </tr>\n",
       "    <tr>\n",
       "      <th>2</th>\n",
       "      <td>0.078210</td>\n",
       "      <td>0.017103</td>\n",
       "      <td>99.478782</td>\n",
       "    </tr>\n",
       "    <tr>\n",
       "      <th>3</th>\n",
       "      <td>0.023835</td>\n",
       "      <td>0.005212</td>\n",
       "      <td>100.000000</td>\n",
       "    </tr>\n",
       "  </tbody>\n",
       "</table>\n",
       "</div>"
      ],
      "text/plain": [
       "   eigenvalues  ev_ratios  cum_percent\n",
       "0     4.228242   0.924619    92.461872\n",
       "1     0.242671   0.053066    97.768521\n",
       "2     0.078210   0.017103    99.478782\n",
       "3     0.023835   0.005212   100.000000"
      ]
     },
     "execution_count": 124,
     "metadata": {},
     "output_type": "execute_result"
    }
   ],
   "source": [
    "ev_matrix"
   ]
  },
  {
   "cell_type": "code",
   "execution_count": 313,
   "id": "82486c26",
   "metadata": {
    "ExecuteTime": {
     "end_time": "2021-11-16T08:05:47.703934Z",
     "start_time": "2021-11-16T08:05:47.528965Z"
    }
   },
   "outputs": [
    {
     "data": {
      "image/png": "[encoded data removed]",
      "text/plain": [
       "<Figure size 504x504 with 1 Axes>"
      ]
     },
     "metadata": {
      "needs_background": "light"
     },
     "output_type": "display_data"
    }
   ],
   "source": [
    "# Build plot\n",
    "fig, ax = plt.subplots(figsize=(7,7))\n",
    "\n",
    "# Get the 10 most recent values for a bar plot\n",
    "eigenvalues = ev_matrix['eigenvalues'][0:10].sort_values(ascending=False)  # only take the first 10 eigenvalues\n",
    "ev_ratios = ev_matrix['ev_ratios'][0:10].sort_values(ascending=False)*100\n",
    "cum_percent = ev_matrix['cum_percent'][0:10].sort_values(ascending=True)\n",
    "\n",
    "# Append missing values if there are less than 10\n",
    "if 10-len(eigenvalues) > 0:\n",
    "    \n",
    "    blank_vals = list(np.full((1,10-len(eigenvalues)), fill_value = '')[0])\n",
    "    round_eigen = round(eigenvalues,4)\n",
    "    y_labels = round_eigen.append(pd.Series(blank_vals))\n",
    "    y_labels = [str(val) for val in y_labels]\n",
    "    \n",
    "    zero_vals = list(np.full((1,10-len(eigenvalues)), fill_value = 0)[0])\n",
    "    y_nums = ev_ratios.append(pd.Series(zero_vals))\n",
    "\n",
    "y_vals = np.arange(9,-1,-1)\n",
    "\n",
    "# Make the bar plot, cumulative percentage plots, etc. \n",
    "ax.barh(y_vals, y_nums, align='center', color = 'lightgrey', edgecolor = 'dodgerblue', alpha=1, label = 'Percent Per Principal Component')\n",
    "ax.plot(cum_percent, y_vals[:len(cum_percent)], linestyle = '--', label = 'Cumulative Percent')\n",
    "\n",
    "# Set limits\n",
    "ax.set_xlim(0,100)\n",
    "ax.set_ylim(0,10)\n",
    "\n",
    "# Labels, title and grid\n",
    "ax.set_title('Eigenvalue Pareto Plot\\n')\n",
    "ax.set_yticks(y_vals)\n",
    "ax.set_yticklabels(y_labels)\n",
    "ax.grid(axis=\"x\")\n",
    "ax.legend(loc = 3)\n",
    "plt.show()"
   ]
  },
  {
   "cell_type": "code",
   "execution_count": null,
   "id": "16bae1e0",
   "metadata": {},
   "outputs": [],
   "source": []
  },
  {
   "cell_type": "code",
   "execution_count": null,
   "id": "60cb9085",
   "metadata": {},
   "outputs": [],
   "source": []
  },
  {
   "cell_type": "code",
   "execution_count": null,
   "id": "3fb3c95e",
   "metadata": {},
   "outputs": [],
   "source": []
  },
  {
   "cell_type": "code",
   "execution_count": null,
   "id": "6f45ec6f",
   "metadata": {},
   "outputs": [],
   "source": []
  },
  {
   "cell_type": "code",
   "execution_count": 302,
   "id": "d5b884c1",
   "metadata": {
    "ExecuteTime": {
     "end_time": "2021-11-16T07:57:48.437151Z",
     "start_time": "2021-11-16T07:57:48.426087Z"
    }
   },
   "outputs": [
    {
     "data": {
      "text/plain": [
       "array([9, 8, 7, 6])"
      ]
     },
     "execution_count": 302,
     "metadata": {},
     "output_type": "execute_result"
    }
   ],
   "source": [
    "y_vals[:len(cum_percent)]"
   ]
  },
  {
   "cell_type": "code",
   "execution_count": 236,
   "id": "3511a3c7",
   "metadata": {
    "ExecuteTime": {
     "end_time": "2021-11-16T07:25:08.542586Z",
     "start_time": "2021-11-16T07:25:08.531615Z"
    }
   },
   "outputs": [
    {
     "data": {
      "text/plain": [
       "['4.2282',\n",
       " '0.2427',\n",
       " '0.0782',\n",
       " '0.0238',\n",
       " '0.0',\n",
       " '0.0',\n",
       " '0.0',\n",
       " '0.0',\n",
       " '0.0',\n",
       " '0.0']"
      ]
     },
     "execution_count": 236,
     "metadata": {},
     "output_type": "execute_result"
    }
   ],
   "source": [
    "plot_egvs = [str(round(comp,4)) for comp in eigenvalues]\n",
    "plot_egvs "
   ]
  },
  {
   "cell_type": "code",
   "execution_count": 251,
   "id": "bd9bcd3f",
   "metadata": {
    "ExecuteTime": {
     "end_time": "2021-11-16T07:30:18.868144Z",
     "start_time": "2021-11-16T07:30:18.859195Z"
    }
   },
   "outputs": [
    {
     "data": {
      "text/plain": [
       "0    4.228242\n",
       "1    0.242671\n",
       "2     0.07821\n",
       "3    0.023835\n",
       "0            \n",
       "1            \n",
       "2            \n",
       "3            \n",
       "4            \n",
       "5            \n",
       "dtype: object"
      ]
     },
     "execution_count": 251,
     "metadata": {},
     "output_type": "execute_result"
    }
   ],
   "source": [
    "eigenvalues = ev_matrix['eigenvalues'][0:10].sort_values(ascending=False)\n",
    "values_needed = list(np.full((1,10-len(eigenvalues)), fill_value = '')[0])\n",
    "eigenvalues = eigenvalues.append(pd.Series(values_needed))\n",
    "eigenvalues"
   ]
  },
  {
   "cell_type": "code",
   "execution_count": 174,
   "id": "8372e078",
   "metadata": {
    "ExecuteTime": {
     "end_time": "2021-11-16T04:42:58.760746Z",
     "start_time": "2021-11-16T04:42:58.746764Z"
    }
   },
   "outputs": [
    {
     "data": {
      "text/plain": [
       "False"
      ]
     },
     "execution_count": 174,
     "metadata": {},
     "output_type": "execute_result"
    }
   ],
   "source": [
    "eigenvalues = ev_matrix['eigenvalues'][0:10].sort_values(ascending=False)  # only take the first 10 eigenvalues\n",
    "len(eigenvalues) - 10 > 0\n"
   ]
  },
  {
   "cell_type": "code",
   "execution_count": 175,
   "id": "db7af503",
   "metadata": {
    "ExecuteTime": {
     "end_time": "2021-11-16T04:43:06.945913Z",
     "start_time": "2021-11-16T04:43:06.938902Z"
    }
   },
   "outputs": [
    {
     "data": {
      "text/plain": [
       "4"
      ]
     },
     "execution_count": 175,
     "metadata": {},
     "output_type": "execute_result"
    }
   ],
   "source": [
    "len(eigenvalues)"
   ]
  },
  {
   "cell_type": "code",
   "execution_count": 72,
   "id": "cb4c7174",
   "metadata": {
    "ExecuteTime": {
     "end_time": "2021-11-16T03:42:42.159904Z",
     "start_time": "2021-11-16T03:42:42.140948Z"
    }
   },
   "outputs": [
    {
     "name": "stdout",
     "output_type": "stream",
     "text": [
      "sepal length (cm) 0.3613865917853687 -0.08452251406456868\n",
      "sepal width (cm) 0.6565887712868422 0.7301614347850268\n",
      "petal length (cm) -0.5820298513060653 0.5979108301000855\n",
      "petal width (cm) -0.3154871929039757 0.31972310366612916\n"
     ]
    }
   ],
   "source": [
    "for i, row in eigenvectors.iterrows():\n",
    "    \n",
    "    print(i, row[f\"Principal Component {A}\"], row[f\"Principal Component {B}\"])\n",
    "    "
   ]
  },
  {
   "cell_type": "code",
   "execution_count": 10,
   "id": "8bf04a6e",
   "metadata": {
    "ExecuteTime": {
     "end_time": "2021-11-15T23:12:34.489873Z",
     "start_time": "2021-11-15T23:12:34.304458Z"
    }
   },
   "outputs": [
    {
     "data": {
      "text/plain": [
       "Text(0, 0.5, 'Sepal width')"
      ]
     },
     "execution_count": 10,
     "metadata": {},
     "output_type": "execute_result"
    },
    {
     "data": {
      "image/png": "[encoded data removed]",
      "text/plain": [
       "<Figure size 432x288 with 1 Axes>"
      ]
     },
     "metadata": {
      "needs_background": "light"
     },
     "output_type": "display_data"
    }
   ],
   "source": [
    "# Plot the training points\n",
    "plt.scatter(data['sepal length (cm)'], data['sepal width (cm)'], c=y, cmap=plt.cm.Set1, edgecolor=\"k\")\n",
    "plt.xlabel(\"Sepal length\")\n",
    "plt.ylabel(\"Sepal width\")"
   ]
  },
  {
   "cell_type": "code",
   "execution_count": 42,
   "id": "48454c41",
   "metadata": {
    "ExecuteTime": {
     "end_time": "2021-11-16T03:21:07.679802Z",
     "start_time": "2021-11-16T03:21:07.558894Z"
    }
   },
   "outputs": [
    {
     "data": {
      "text/plain": [
       "<matplotlib.patches.Circle at 0x27b51808af0>"
      ]
     },
     "execution_count": 42,
     "metadata": {},
     "output_type": "execute_result"
    },
    {
     "data": {
      "image/png": "[encoded data removed]",
      "text/plain": [
       "<Figure size 504x504 with 1 Axes>"
      ]
     },
     "metadata": {
      "needs_background": "light"
     },
     "output_type": "display_data"
    }
   ],
   "source": [
    "# Build plot\n",
    "fig, ax = plt.subplots(figsize=(7,7))\n",
    "\n",
    "x_val = output_data[f\"Principal Component {A}\"]\n",
    "y_val = output_data[f\"Principal Component {B}\"]\n",
    "\n",
    "\n",
    "\n",
    "# Build plot\n",
    "fig, ax = plt.subplots(figsize=(7,7))\n",
    "circ = plt.Circle((0, 0), 0.2, color='dodgerblue')\n",
    "ax.add_patch(circ)"
   ]
  },
  {
   "cell_type": "code",
   "execution_count": null,
   "id": "49ac8513",
   "metadata": {},
   "outputs": [],
   "source": []
  }
 ],
 "metadata": {
  "kernelspec": {
   "display_name": "Python 3",
   "language": "python",
   "name": "python3"
  },
  "language_info": {
   "codemirror_mode": {
    "name": "ipython",
    "version": 3
   },
   "file_extension": ".py",
   "mimetype": "text/x-python",
   "name": "python",
   "nbconvert_exporter": "python",
   "pygments_lexer": "ipython3",
   "version": "3.8.8"
  },
  "toc": {
   "base_numbering": 1,
   "nav_menu": {},
   "number_sections": true,
   "sideBar": true,
   "skip_h1_title": false,
   "title_cell": "Table of Contents",
   "title_sidebar": "Contents",
   "toc_cell": false,
   "toc_position": {
    "height": "calc(100% - 180px)",
    "left": "10px",
    "top": "150px",
    "width": "384px"
   },
   "toc_section_display": true,
   "toc_window_display": true
  },
  "varInspector": {
   "cols": {
    "lenName": 16,
    "lenType": 16,
    "lenVar": 40
   },
   "kernels_config": {
    "python": {
     "delete_cmd_postfix": "",
     "delete_cmd_prefix": "del ",
     "library": "var_list.py",
     "varRefreshCmd": "print(var_dic_list())"
    },
    "r": {
     "delete_cmd_postfix": ") ",
     "delete_cmd_prefix": "rm(",
     "library": "var_list.r",
     "varRefreshCmd": "cat(var_dic_list()) "
    }
   },
   "types_to_exclude": [
    "module",
    "function",
    "builtin_function_or_method",
    "instance",
    "_Feature"
   ],
   "window_display": false
  }
 },
 "nbformat": 4,
 "nbformat_minor": 5
}
