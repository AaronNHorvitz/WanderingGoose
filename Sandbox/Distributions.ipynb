{
 "cells": [
  {
   "cell_type": "code",
   "execution_count": 2,
   "id": "5b19aaaf",
   "metadata": {
    "ExecuteTime": {
     "end_time": "2022-05-19T19:58:31.841422Z",
     "start_time": "2022-05-19T19:58:31.177439Z"
    }
   },
   "outputs": [],
   "source": [
    "import pandas as pd\n",
    "import numpy as np\n",
    "import scipy \n",
    "\n",
    "import matplotlib.pyplot as plt\n",
    "import scipy.stats as stats"
   ]
  },
  {
   "cell_type": "code",
   "execution_count": 3,
   "id": "76169623",
   "metadata": {
    "ExecuteTime": {
     "end_time": "2022-05-19T19:58:31.873054Z",
     "start_time": "2022-05-19T19:58:31.859966Z"
    }
   },
   "outputs": [],
   "source": [
    "uniform = stats.uniform.rvs(size=100000,\n",
    "                                 loc=0,\n",
    "                                 scale=10\n",
    "                                 )"
   ]
  },
  {
   "cell_type": "code",
   "execution_count": 4,
   "id": "6cb7e2ba",
   "metadata": {
    "ExecuteTime": {
     "end_time": "2022-05-19T19:58:32.012796Z",
     "start_time": "2022-05-19T19:58:32.000859Z"
    }
   },
   "outputs": [
    {
     "data": {
      "text/plain": [
       "array([5.19243733, 4.82596506, 3.36172661, ..., 7.98717901, 9.63543313,\n",
       "       9.86482939])"
      ]
     },
     "execution_count": 4,
     "metadata": {},
     "output_type": "execute_result"
    }
   ],
   "source": [
    "uniform"
   ]
  },
  {
   "cell_type": "code",
   "execution_count": 20,
   "id": "a72345f7",
   "metadata": {
    "ExecuteTime": {
     "end_time": "2022-05-20T05:27:08.035602Z",
     "start_time": "2022-05-20T05:27:08.027623Z"
    }
   },
   "outputs": [],
   "source": [
    "class Dog:\n",
    "    \n",
    "    # Class attribute\n",
    "    species = \"Canis familiaris\"\n",
    "    \n",
    "    def __init__(self, name, age):\n",
    "        self.name = name\n",
    "        self.age = age\n",
    "        \n",
    "    # Instance method\n",
    "    def description(self):\n",
    "        return f\"{self.name} is {self.age} years old\"\n",
    "    \n",
    "    # Another instance method\n",
    "    def speak(self, sound):\n",
    "        return f\"{self.name} says {sound}\"\n",
    "    "
   ]
  },
  {
   "cell_type": "code",
   "execution_count": 8,
   "id": "02265569",
   "metadata": {
    "ExecuteTime": {
     "end_time": "2022-05-20T03:04:56.007059Z",
     "start_time": "2022-05-20T03:04:56.002062Z"
    }
   },
   "outputs": [],
   "source": [
    "class Dog:\n",
    "    pass"
   ]
  },
  {
   "cell_type": "code",
   "execution_count": 21,
   "id": "ad552b56",
   "metadata": {
    "ExecuteTime": {
     "end_time": "2022-05-20T05:27:22.703615Z",
     "start_time": "2022-05-20T05:27:22.699602Z"
    }
   },
   "outputs": [],
   "source": [
    "my_dog = Dog(name='Pucci', age=12)"
   ]
  },
  {
   "cell_type": "code",
   "execution_count": 22,
   "id": "85f33cc3",
   "metadata": {
    "ExecuteTime": {
     "end_time": "2022-05-20T05:27:23.749372Z",
     "start_time": "2022-05-20T05:27:23.731341Z"
    }
   },
   "outputs": [
    {
     "data": {
      "text/plain": [
       "'Fluffy'"
      ]
     },
     "execution_count": 22,
     "metadata": {},
     "output_type": "execute_result"
    }
   ],
   "source": [
    "my_dog.name = 'Fluffy'\n",
    "my_dog.name"
   ]
  },
  {
   "cell_type": "code",
   "execution_count": 23,
   "id": "f9e24f71",
   "metadata": {
    "ExecuteTime": {
     "end_time": "2022-05-20T05:27:24.241026Z",
     "start_time": "2022-05-20T05:27:24.234009Z"
    }
   },
   "outputs": [
    {
     "data": {
      "text/plain": [
       "'Fluffy is 12 years old'"
      ]
     },
     "execution_count": 23,
     "metadata": {},
     "output_type": "execute_result"
    }
   ],
   "source": [
    "my_dog.description()"
   ]
  },
  {
   "cell_type": "code",
   "execution_count": 25,
   "id": "1facf4a9",
   "metadata": {
    "ExecuteTime": {
     "end_time": "2022-05-20T05:27:44.803564Z",
     "start_time": "2022-05-20T05:27:44.786206Z"
    }
   },
   "outputs": [
    {
     "data": {
      "text/plain": [
       "'Fluffy says bark'"
      ]
     },
     "execution_count": 25,
     "metadata": {},
     "output_type": "execute_result"
    }
   ],
   "source": [
    "my_dog.speak('bark')"
   ]
  },
  {
   "cell_type": "code",
   "execution_count": null,
   "id": "706d3bbf",
   "metadata": {},
   "outputs": [],
   "source": []
  }
 ],
 "metadata": {
  "kernelspec": {
   "display_name": "Python 3",
   "language": "python",
   "name": "python3"
  },
  "language_info": {
   "codemirror_mode": {
    "name": "ipython",
    "version": 3
   },
   "file_extension": ".py",
   "mimetype": "text/x-python",
   "name": "python",
   "nbconvert_exporter": "python",
   "pygments_lexer": "ipython3",
   "version": "3.8.8"
  },
  "toc": {
   "base_numbering": 1,
   "nav_menu": {},
   "number_sections": true,
   "sideBar": true,
   "skip_h1_title": false,
   "title_cell": "Table of Contents",
   "title_sidebar": "Contents",
   "toc_cell": false,
   "toc_position": {},
   "toc_section_display": true,
   "toc_window_display": false
  },
  "varInspector": {
   "cols": {
    "lenName": 16,
    "lenType": 16,
    "lenVar": 40
   },
   "kernels_config": {
    "python": {
     "delete_cmd_postfix": "",
     "delete_cmd_prefix": "del ",
     "library": "var_list.py",
     "varRefreshCmd": "print(var_dic_list())"
    },
    "r": {
     "delete_cmd_postfix": ") ",
     "delete_cmd_prefix": "rm(",
     "library": "var_list.r",
     "varRefreshCmd": "cat(var_dic_list()) "
    }
   },
   "types_to_exclude": [
    "module",
    "function",
    "builtin_function_or_method",
    "instance",
    "_Feature"
   ],
   "window_display": false
  }
 },
 "nbformat": 4,
 "nbformat_minor": 5
}
